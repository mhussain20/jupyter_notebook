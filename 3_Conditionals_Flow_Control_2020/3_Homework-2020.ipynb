{
 "cells": [
  {
   "cell_type": "markdown",
   "metadata": {},
   "source": [
    "**What is type conversion? Where would you use it? Give an example. **"
   ]
  },
  {
   "cell_type": "code",
   "execution_count": 1,
   "metadata": {},
   "outputs": [
    {
     "name": "stdout",
     "output_type": "stream",
     "text": [
      "8\n"
     ]
    }
   ],
   "source": [
    "#Type conversion is the process of converting a specific variable from one data type to another\n",
    "# (e.g. from a string to an integer)\n",
    "\n",
    "data = 8\n",
    "# using str() converts the integer into a string\n",
    "print(str(data))\n",
    "\n",
    "#you can use it when a specific process or method requires a specific data type to process."
   ]
  },
  {
   "cell_type": "markdown",
   "metadata": {
    "focus": false,
    "id": "3453f5cc-a846-4ed7-b5ad-7a957add286b",
    "nbgrader": {
     "grade": false,
     "grade_id": "q2",
     "locked": true,
     "solution": false
    }
   },
   "source": [
    "**What is the symbol for identity comparison?**"
   ]
  },
  {
   "cell_type": "code",
   "execution_count": null,
   "metadata": {
    "collapsed": true,
    "focus": false,
    "id": "f1e113a3-a1dd-46a5-94a8-9df308da7561",
    "nbgrader": {
     "grade": true,
     "grade_id": "q2_ans",
     "locked": false,
     "points": 1,
     "solution": true
    }
   },
   "outputs": [],
   "source": [
    "is"
   ]
  },
  {
   "cell_type": "markdown",
   "metadata": {
    "focus": false,
    "id": "51a87351-db25-4b80-91b0-d13d81e7a71d",
    "nbgrader": {
     "grade": false,
     "grade_id": "q3",
     "locked": true,
     "solution": false
    }
   },
   "source": [
    "**Which of the values below return True when used in the following statement?**\n",
    "\n",
    "```python \n",
    "num_wheels >= 1024 and num_wheels < 2456\n",
    "```"
   ]
  },
  {
   "cell_type": "markdown",
   "metadata": {
    "focus": false,
    "id": "330d26ab-ed45-4c7e-ad20-d7eea2ab87be",
    "nbgrader": {
     "grade": false,
     "grade_id": "q3_b",
     "locked": true,
     "solution": false
    }
   },
   "source": [
    "a.) num_wheels = 2456\n",
    "\n",
    "<b>b.) num_wheels = 1765</b>\n",
    "\n",
    "<b>c.) num_wheels = 1024</b>\n",
    "\n",
    "d.) num_wheels = 8000\n",
    "\n",
    "<b>e.) num_wheels = 1028</b>\n",
    "\n",
    "f.) num_wheels = 1020"
   ]
  },
  {
   "cell_type": "code",
   "execution_count": null,
   "metadata": {
    "focus": false,
    "id": "8a2f188d-b80d-4277-98a5-add75d95cccd",
    "nbgrader": {
     "grade": true,
     "grade_id": "q3_ans",
     "locked": false,
     "points": 2,
     "solution": true
    }
   },
   "outputs": [],
   "source": [
    "# b, c, e"
   ]
  },
  {
   "cell_type": "markdown",
   "metadata": {
    "focus": false,
    "id": "d70e9770-49fe-4eef-9a21-906577159698",
    "nbgrader": {
     "grade": false,
     "grade_id": "q5",
     "locked": true,
     "solution": false
    }
   },
   "source": [
    "**Write the output of the variable `str_two` once the following code block has run:**\n",
    "\n",
    "```python\n",
    "str_one = \"Hello\"\n",
    "str_two = str_one\n",
    "str_one = \"Hi\"\n",
    "print(str_two)\n",
    "```"
   ]
  },
  {
   "cell_type": "code",
   "execution_count": null,
   "metadata": {},
   "outputs": [],
   "source": [
    "#str_two will output \"Hello\""
   ]
  },
  {
   "cell_type": "markdown",
   "metadata": {
    "focus": false,
    "id": "9c1d70d5-4ec7-4d21-80fd-7088561ddb59",
    "nbgrader": {
     "grade": false,
     "grade_id": "q6",
     "locked": true,
     "solution": false
    }
   },
   "source": [
    "**Explain the difference between mutable and immutable**"
   ]
  },
  {
   "cell_type": "code",
   "execution_count": null,
   "metadata": {
    "collapsed": true
   },
   "outputs": [],
   "source": [
    "# Mutable means that the value can be changed, so if a variable is of a mutable type, the value of that variable can change\n",
    "# Immutable is the opposite, when a variable is assigned, its value cannot be changed"
   ]
  },
  {
   "cell_type": "markdown",
   "metadata": {},
   "source": [
    "**Write a program that asks for a positive number. \n",
    "If the user does not enter a valid number return 0, otherwise return the number as an interger.**"
   ]
  },
  {
   "cell_type": "code",
   "execution_count": null,
   "metadata": {
    "collapsed": true
   },
   "outputs": [],
   "source": [
    "def check_positive(num):\n",
    "    if num > 0:\n",
    "        print(\"This is a positive number\")\n",
    "    else:\n",
    "        print(\"This is not a positive number\")"
   ]
  },
  {
   "cell_type": "markdown",
   "metadata": {},
   "source": [
    "**Write a Python function to check whether a number is in the range -5, 64**"
   ]
  },
  {
   "cell_type": "code",
   "execution_count": null,
   "metadata": {
    "collapsed": true
   },
   "outputs": [],
   "source": [
    "def check_range(num):\n",
    "    print(num > -5 and num < 64)"
   ]
  },
  {
   "cell_type": "markdown",
   "metadata": {},
   "source": [
    "**Write a Python function that takes a number as an argument and checks if the number is even. If it is then return the number otherwise print \"This is not an even number\" and return 0.**"
   ]
  },
  {
   "cell_type": "code",
   "execution_count": null,
   "metadata": {
    "collapsed": true
   },
   "outputs": [],
   "source": [
    "def check_even(num):\n",
    "    if num % 2 == 0:\n",
    "        return num\n",
    "    else:\n",
    "        print(\"This is not an even number\")\n",
    "        return 0"
   ]
  },
  {
   "cell_type": "markdown",
   "metadata": {},
   "source": [
    "**Write a program (using ONLY things we have learned so far) that examines three variables -x,y,z- and prints the largest odd number among them. If none of them are odd, it should print a message saying so.**"
   ]
  },
  {
   "cell_type": "code",
   "execution_count": 21,
   "metadata": {},
   "outputs": [],
   "source": [
    "def number_checks(x,y,z):\n",
    "    if x % 2 != 0 and (x > z and x > y):\n",
    "        print(x)\n",
    "    \n",
    "    elif y % 2 != 0 and (y > z and y > x):\n",
    "        print(y)\n",
    "    \n",
    "    elif z % 2 != 0 and (z > y and z > x):\n",
    "        print(z)\n",
    "    \n",
    "    else:\n",
    "        print(\"None of the numbers are odd\")"
   ]
  },
  {
   "cell_type": "markdown",
   "metadata": {},
   "source": [
    "**Ask a user to enter a number. Evaluate this number with the use of a function. This function: checks if the number is under 0 prints \"negative\" and returns 0, if the number is between 0 and 10 it prints \"within range\" and returns the number, otherwise it prints \"out of range\" and return 10 **"
   ]
  },
  {
   "cell_type": "code",
   "execution_count": 34,
   "metadata": {},
   "outputs": [
    {
     "name": "stdout",
     "output_type": "stream",
     "text": [
      "Enter a number: 6\n",
      "6\n",
      "Within Range\n"
     ]
    },
    {
     "data": {
      "text/plain": [
       "6"
      ]
     },
     "execution_count": 34,
     "metadata": {},
     "output_type": "execute_result"
    }
   ],
   "source": [
    "def number_checker(num):\n",
    "    if num < 0:\n",
    "        print(\"Negative\")\n",
    "        return 0\n",
    "    elif num > 0 and num < 10:\n",
    "        print(\"Within Range\")\n",
    "        return num\n",
    "    else:\n",
    "        print(\"Out Of Range\")\n",
    "        return 10\n",
    "\n",
    "num = int(input(\"Enter a number: \"))\n",
    "number_checker(num)\n"
   ]
  },
  {
   "cell_type": "markdown",
   "metadata": {},
   "source": [
    "**Create a function that checks and informs if a user can vote based on their age.**"
   ]
  },
  {
   "cell_type": "code",
   "execution_count": null,
   "metadata": {},
   "outputs": [],
   "source": [
    "def voting_checker(age):\n",
    "    if age > 18:\n",
    "        print(\"You're allowed to vote\")\n",
    "        return True\n",
    "\n",
    "age = int(input(\"Enter a number: \"))\n",
    "voting_checker(age)"
   ]
  }
 ],
 "metadata": {
  "celltoolbar": "Create Assignment",
  "kernelspec": {
   "display_name": "Python 3",
   "language": "python",
   "name": "python3"
  },
  "language_info": {
   "codemirror_mode": {
    "name": "ipython",
    "version": 3
   },
   "file_extension": ".py",
   "mimetype": "text/x-python",
   "name": "python",
   "nbconvert_exporter": "python",
   "pygments_lexer": "ipython3",
   "version": "3.8.5"
  }
 },
 "nbformat": 4,
 "nbformat_minor": 1
}
