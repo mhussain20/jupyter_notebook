{
 "cells": [
  {
   "cell_type": "markdown",
   "metadata": {
    "slideshow": {
     "slide_type": "slide"
    }
   },
   "source": [
    "# Conditionals and Flow Control \n",
    "\n",
    "## Dr. Alexia Zoumpoulaki\n",
    "\n",
    "## zoumpoulakia@cardiff.ac.uk\n",
    "\n",
    "![insert](img/coding_3.gif)"
   ]
  },
  {
   "cell_type": "markdown",
   "metadata": {
    "slideshow": {
     "slide_type": "slide"
    }
   },
   "source": [
    "# Review\n",
    "\n",
    "What did we see the previous time?\n",
    "- variables\n",
    "- types of variables\n",
    "- functions"
   ]
  },
  {
   "cell_type": "markdown",
   "metadata": {
    "slideshow": {
     "slide_type": "slide"
    }
   },
   "source": [
    "Given the below\n",
    "```python\n",
    "def good_morning(my_name):\n",
    "    print(\"Hello \",my_name)\n",
    "    \n",
    "print(\"dave\")\n",
    "\n",
    "good_morning(\"Dave\")\n",
    "good_morning(\"Mike\")\n",
    "```\n",
    "\n",
    "- What is the name of the function?\n",
    "- What is my_name called?\n",
    "- What does the function return?\n",
    "- What will be the result of calling the function with the above values?\n",
    "- What is the type returned by calling the funtion?\n"
   ]
  },
  {
   "cell_type": "markdown",
   "metadata": {
    "slideshow": {
     "slide_type": "slide"
    }
   },
   "source": [
    "# Review Exercises:\n",
    "\n",
    "1. Write a function that takes one argument: and prints it 4 times one under another.\n",
    "\n",
    "2. Write a function that has 3 formal arguments (inputs): num1, num2, word. The function should compute the length of the word (how many characters), then add it to num1 and then mutliply the result by num2. It should return the final result and print:\n",
    "\n",
    "\"&lt;word here> has &lt;lenght here> characters.\"\n",
    "\n",
    "&lt;num1> + &lt;length> = &lt;result> and <br>\n",
    "&lt;result> x &lt;num2> = &lt;result>\n",
    "\n",
    "return result\n",
    "\n",
    "    "
   ]
  },
  {
   "cell_type": "code",
   "execution_count": 7,
   "metadata": {},
   "outputs": [
    {
     "name": "stdout",
     "output_type": "stream",
     "text": [
      "hello has 5 characters\n"
     ]
    },
    {
     "data": {
      "text/plain": [
       "12"
      ]
     },
     "execution_count": 7,
     "metadata": {},
     "output_type": "execute_result"
    }
   ],
   "source": [
    "#First Task\n",
    "def four_time(argument):\n",
    "    argument = \"\\n\" + str(argument)\n",
    "    print(4*argument)\n",
    "    \n",
    "#Second Task\n",
    "def length_of_word(num1, num2, word):\n",
    "    word_length = len(word)\n",
    "    first_op = word_length + num1\n",
    "    result = first_op * 2\n",
    "    print(word, \"has\", word_length, \"characters\")\n",
    "    return result\n",
    "\n",
    "length_of_word(1,2,\"hello\")\n",
    "    \n",
    "    "
   ]
  },
  {
   "cell_type": "markdown",
   "metadata": {
    "slideshow": {
     "slide_type": "slide"
    }
   },
   "source": [
    "# Today's Overview\n",
    "\n",
    "![insert](img/nocomment.jpg)\n",
    "- Comparison Operators\n",
    "    - Less than\n",
    "    - More than\n",
    "    - Equality\n",
    "    - `is` and `is not`\n",
    "- Conditionals\n",
    "    - if-elif-else\n"
   ]
  },
  {
   "cell_type": "markdown",
   "metadata": {
    "slideshow": {
     "slide_type": "slide"
    }
   },
   "source": [
    "# Comparison Operators\n",
    "\n",
    "Remember (`*`, `/` and `+`)?\n",
    "\n",
    "These are not the only operators you can use on types. Ever heard of carets?"
   ]
  },
  {
   "cell_type": "markdown",
   "metadata": {
    "slideshow": {
     "slide_type": "fragment"
    }
   },
   "source": [
    "## Less Than (<)\n",
    "\n",
    "Try typing `3<10` in the interpreter\n",
    "\n",
    "and now `10<3`. What type is the result?"
   ]
  },
  {
   "cell_type": "code",
   "execution_count": null,
   "metadata": {
    "collapsed": true,
    "slideshow": {
     "slide_type": "subslide"
    }
   },
   "outputs": [],
   "source": []
  },
  {
   "cell_type": "markdown",
   "metadata": {
    "slideshow": {
     "slide_type": "fragment"
    }
   },
   "source": [
    "## Greater Than (>)\n",
    "\n",
    "Guess what this one does?"
   ]
  },
  {
   "cell_type": "markdown",
   "metadata": {
    "slideshow": {
     "slide_type": "slide"
    }
   },
   "source": [
    "# Equality Operators\n",
    "\n",
    "```pints = 3```\n",
    "\n",
    "One equals is for assigning a name to a literal.\n",
    "\n",
    "Two equals (==) checks if two variables (or literals) are equal."
   ]
  },
  {
   "cell_type": "markdown",
   "metadata": {},
   "source": [
    "<video controls src=\"videos/jupyter/assignmentvsequality_s.mov\">animation</video>"
   ]
  },
  {
   "cell_type": "code",
   "execution_count": null,
   "metadata": {
    "collapsed": true,
    "slideshow": {
     "slide_type": "subslide"
    }
   },
   "outputs": [],
   "source": [
    "name = \"Alexia\"\n",
    "print(name == \"Alex\")\n",
    "print(2 == 5)"
   ]
  },
  {
   "cell_type": "markdown",
   "metadata": {
    "slideshow": {
     "slide_type": "subslide"
    }
   },
   "source": [
    "### What if we want to check unequality ?"
   ]
  },
  {
   "cell_type": "code",
   "execution_count": null,
   "metadata": {
    "collapsed": true,
    "slideshow": {
     "slide_type": "fragment"
    }
   },
   "outputs": [],
   "source": [
    "print(2 != 5)\n",
    "print(name != \"Alex\")"
   ]
  },
  {
   "cell_type": "code",
   "execution_count": null,
   "metadata": {
    "collapsed": true,
    "slideshow": {
     "slide_type": "fragment"
    }
   },
   "outputs": [],
   "source": [
    "print(type(name !=\"Alex\"))"
   ]
  },
  {
   "cell_type": "markdown",
   "metadata": {
    "slideshow": {
     "slide_type": "slide"
    }
   },
   "source": [
    "# Comparison Operators\n",
    "\n",
    "We can combine equality operators with comparison operators. What benefit is this?"
   ]
  },
  {
   "cell_type": "markdown",
   "metadata": {
    "slideshow": {
     "slide_type": "fragment"
    }
   },
   "source": [
    "\n",
    "## Less Than or Equal To (<=)\n",
    "\n",
    "`2 <= 5`"
   ]
  },
  {
   "cell_type": "markdown",
   "metadata": {
    "slideshow": {
     "slide_type": "subslide"
    }
   },
   "source": [
    "## Greater Than or Equal To (>=)\n",
    "\n",
    "`2 >= 5`"
   ]
  },
  {
   "cell_type": "markdown",
   "metadata": {
    "slideshow": {
     "slide_type": "subslide"
    }
   },
   "source": [
    "### Exercise\n",
    "\n",
    "What operator(s) could I have used to get these results?\n",
    "\n",
    "```python\n",
    "2 ?? 5 #false\n",
    "\"a\" ?? \"b\" #True\n",
    "3.33 ?? 7 #False\n",
    "400 ?? 1000 #True - Give 3 answers\n",
    "1000 ?? 1000 #True\n",
    "```"
   ]
  },
  {
   "cell_type": "markdown",
   "metadata": {
    "slideshow": {
     "slide_type": "fragment"
    }
   },
   "source": [
    "If you want to know more about comparing strings, then look at [this](http://en.wikipedia.org/wiki/Lexicographical_order)"
   ]
  },
  {
   "cell_type": "markdown",
   "metadata": {
    "slideshow": {
     "slide_type": "skip"
    }
   },
   "source": [
    "# Is and Is not\n",
    "\n",
    "`==` and `!=` are not the only ways to check for equality."
   ]
  },
  {
   "cell_type": "code",
   "execution_count": null,
   "metadata": {
    "collapsed": true,
    "slideshow": {
     "slide_type": "slide"
    }
   },
   "outputs": [],
   "source": [
    "print(2 is 2)\n",
    "name = \"Chris\"\n",
    "print(name is not name)"
   ]
  },
  {
   "cell_type": "markdown",
   "metadata": {
    "slideshow": {
     "slide_type": "skip"
    }
   },
   "source": [
    "# Identity vs Equality\n",
    "\n",
    "There is a simple rule of thumb to tell you when to use == or is.\n",
    "\n",
    "`==` is for value equality. Use it when you would like to know if two objects have the same value. (For now we will ony be interested in value equality)\n",
    "\n",
    "`is` is for reference equality. Use it when you would like to know if two references refer to the same object. (We will see the use of this when we do object oriented python)"
   ]
  },
  {
   "cell_type": "code",
   "execution_count": null,
   "metadata": {
    "collapsed": true,
    "slideshow": {
     "slide_type": "slide"
    }
   },
   "outputs": [],
   "source": [
    "a = \"chris\"\n",
    "b = \"chris\"\n",
    "print(a is b) # identity (True)\n",
    "print(a == b) # equality (True)"
   ]
  },
  {
   "cell_type": "code",
   "execution_count": null,
   "metadata": {
    "collapsed": true,
    "slideshow": {
     "slide_type": "slide"
    }
   },
   "outputs": [],
   "source": [
    "a = [] # we will learn about these soon!\n",
    "b = []\n",
    "print(a is b) # identity (False)\n",
    "print(a == b) # equality (True)"
   ]
  },
  {
   "cell_type": "code",
   "execution_count": null,
   "metadata": {
    "collapsed": true,
    "slideshow": {
     "slide_type": "skip"
    }
   },
   "outputs": [],
   "source": [
    "string_var = \"fdjklhd\" #immutable\n",
    "print(string_var) #fdjklhd\n",
    "s = string_var\n",
    "s += \"ueoureo\"\n",
    "print(string_var) #fdjklhd\n",
    "print(s) #fdjklhdueoureo\n",
    "\n",
    "list_var = [] # mutable and we are still learning about these later\n",
    "print(list_var) #[]\n",
    "l = list_var # l is a reference to list_var\n",
    "l.append(1) \n",
    "print(list_var) #[1]\n",
    "print(l) #[1]"
   ]
  },
  {
   "cell_type": "code",
   "execution_count": null,
   "metadata": {
    "collapsed": true,
    "slideshow": {
     "slide_type": "slide"
    }
   },
   "outputs": [],
   "source": [
    "string_var is s"
   ]
  },
  {
   "cell_type": "code",
   "execution_count": null,
   "metadata": {
    "collapsed": true,
    "slideshow": {
     "slide_type": "fragment"
    }
   },
   "outputs": [],
   "source": [
    "list_var is l"
   ]
  },
  {
   "cell_type": "markdown",
   "metadata": {
    "slideshow": {
     "slide_type": "slide"
    }
   },
   "source": [
    "# Combining Comparisons\n",
    "\n",
    "What if we want to know more than one thing about a value? What if I want to know if someone is more than 18 but also under 25?\n",
    "\n",
    "We could do this:"
   ]
  },
  {
   "cell_type": "code",
   "execution_count": null,
   "metadata": {
    "collapsed": true,
    "slideshow": {
     "slide_type": "fragment"
    }
   },
   "outputs": [],
   "source": [
    "age = 21\n",
    "age < 15\n",
    "age > 25"
   ]
  },
  {
   "cell_type": "markdown",
   "metadata": {
    "slideshow": {
     "slide_type": "slide"
    }
   },
   "source": [
    "# AND/OR\n",
    "\n",
    "There is a better way!\n",
    "\n",
    "```python\n",
    "age > 15 and age < 25 # only true if both are true\n",
    "age > 15 or age < 10 # true if either are true\n",
    "```\n",
    "\n",
    "The `and` keywords allow you to chain multiple conditionals together and react **only if all of them are true**\n",
    "\n",
    "OR\n",
    "\n",
    "We can use the `or` to allow multiple different scenarios."
   ]
  },
  {
   "cell_type": "markdown",
   "metadata": {
    "slideshow": {
     "slide_type": "slide"
    }
   },
   "source": [
    "### Exercise\n",
    "\n",
    "What is the output of these conditionals? Try it in your head first."
   ]
  },
  {
   "cell_type": "markdown",
   "metadata": {
    "collapsed": true,
    "slideshow": {
     "slide_type": "subslide"
    }
   },
   "source": [
    "```python\n",
    "\n",
    "make = \"Tesla\"\n",
    "capacity = 80000\n",
    "year = 2016\n",
    "zero_to_sixty = 3\n",
    "\n",
    "print(make == \"Tesla\" or make == \"tesla\")\n",
    "print(make == \"Tesla\" and make == \"tesla\")\n",
    "print(capacity < 80000 and capacity > 60000)\n",
    "print(capacity > 60000 or capactity < 100000 and year == 2014 or  year == 2016)\n",
    "\n",
    "```"
   ]
  },
  {
   "cell_type": "markdown",
   "metadata": {
    "slideshow": {
     "slide_type": "fragment"
    }
   },
   "source": [
    "AND is evalutated before OR\n",
    "https://docs.python.org/3/reference/expressions.html#comparisons\n",
    "\n",
    "~At the bottom of the page you will find the order of operations"
   ]
  },
  {
   "cell_type": "markdown",
   "metadata": {
    "slideshow": {
     "slide_type": "slide"
    }
   },
   "source": [
    "# Chained Comparison\n",
    "\n",
    "So, we can write:\n",
    "\n",
    "```python\n",
    "age > 15 and age < 25\n",
    "```\n",
    "\n",
    "Can you think of a way this could be shorter?"
   ]
  },
  {
   "cell_type": "code",
   "execution_count": null,
   "metadata": {
    "collapsed": true,
    "slideshow": {
     "slide_type": "fragment"
    }
   },
   "outputs": [],
   "source": [
    "15 < age < 25"
   ]
  },
  {
   "cell_type": "markdown",
   "metadata": {
    "slideshow": {
     "slide_type": "slide"
    }
   },
   "source": [
    "# Break\n",
    "\n",
    "![insert](img/spagetti.png)"
   ]
  },
  {
   "cell_type": "markdown",
   "metadata": {
    "slideshow": {
     "slide_type": "slide"
    }
   },
   "source": [
    "# Conditionals\n",
    "\n",
    "What do you think a conditional is? Let's use these comparisons for good!"
   ]
  },
  {
   "cell_type": "markdown",
   "metadata": {
    "slideshow": {
     "slide_type": "slide"
    }
   },
   "source": [
    "# `if`\n",
    "In general just comparing literals/variables is not useful by itself. But we can use such comparisons as **conditions** to execute different parts of a program. \n",
    "\n",
    "`if` (condition is met) then do something specific"
   ]
  },
  {
   "cell_type": "code",
   "execution_count": null,
   "metadata": {
    "collapsed": true
   },
   "outputs": [],
   "source": [
    "The code below checks whether there "
   ]
  },
  {
   "cell_type": "code",
   "execution_count": null,
   "metadata": {
    "collapsed": true,
    "slideshow": {
     "slide_type": "subslide"
    }
   },
   "outputs": [],
   "source": [
    "num_of_donuts = 2\n",
    "if num_of_donuts >= 2:\n",
    "    print(\"That's too many donuts!\")\n",
    "print(\"This print statement does not care how many donuts you ate\")"
   ]
  },
  {
   "cell_type": "markdown",
   "metadata": {
    "slideshow": {
     "slide_type": "fragment"
    }
   },
   "source": [
    "Take note of the structure\n",
    "- COLON `:` at the end of the if statement\n",
    "- indent (4 spaces) for code you want to run **only if the statement is true**\n",
    "- unindent to go back to the `normal` running\n",
    "### Exercise\n",
    "What are the benefits of if statements?\n",
    "What kind of control is this?\n",
    "Write an if statement that prints `hello` and the name  if the `name` variable is equal to `Winston Churchill`"
   ]
  },
  {
   "cell_type": "markdown",
   "metadata": {
    "slideshow": {
     "slide_type": "slide"
    }
   },
   "source": [
    "# Flow Control\n",
    "\n",
    "What we have written so far runs your code **line by line**. This is known as the `flow` of the program\n",
    "\n",
    "`If` statements will only run the block of code when the statement is true\n",
    "\n",
    "This `interrupts the flow` of the program"
   ]
  },
  {
   "cell_type": "markdown",
   "metadata": {},
   "source": [
    "Read the code below:\n",
    "    \n",
    "```python\n",
    "\n",
    "name = \"Rincewind\"\n",
    "age = 32\n",
    "\n",
    "print(\"My name is \" + name)\n",
    "print(f\"I am {age}\")\n",
    "print(\"I am over one hundred years old!\") #is this true? With no flow control it will print anyway\n",
    "\n",
    "```\n",
    "\n",
    "What is the result of executing the code? What shall we see printed at the screen?"
   ]
  },
  {
   "cell_type": "markdown",
   "metadata": {
    "collapsed": true,
    "slideshow": {
     "slide_type": "subslide"
    }
   },
   "source": [
    "**If ** we want to only print the \"I am over one hundred years old\" when age is greater than 100, we shall use an if statment. "
   ]
  },
  {
   "cell_type": "markdown",
   "metadata": {},
   "source": [
    "<video controls src=\"videos/jupyter/if_statement_s.mov\">animation</video>"
   ]
  },
  {
   "cell_type": "code",
   "execution_count": null,
   "metadata": {
    "collapsed": true,
    "slideshow": {
     "slide_type": "subslide"
    }
   },
   "outputs": [],
   "source": [
    "name = \"Rincewind\"\n",
    "age = 32\n",
    "\n",
    "print(\"My name is \" + name)\n",
    "print(\"I am \" + age)\n",
    "if age > 100:\n",
    "    print(\"I am over one hundred years old!\") \n",
    "    print(\"this will only print if Rincewind is over 100\") #as long as you stay indented, this is all part of the if\n",
    "print(\"this will print regardless\")"
   ]
  },
  {
   "cell_type": "markdown",
   "metadata": {
    "slideshow": {
     "slide_type": "slide"
    }
   },
   "source": [
    "![insert](img/stacking_if.jpg)"
   ]
  },
  {
   "cell_type": "code",
   "execution_count": null,
   "metadata": {
    "collapsed": true
   },
   "outputs": [],
   "source": []
  },
  {
   "cell_type": "markdown",
   "metadata": {
    "slideshow": {
     "slide_type": "slide"
    }
   },
   "source": [
    "# `else`\n",
    "Usually an IF statement is followed by an ELSE statement.\n",
    "\n",
    "```python\n",
    "\n",
    "if something is True:\n",
    "    then do stuff\n",
    "else: \n",
    "    do other stuff\n",
    "```\n",
    "\n",
    "It is good practise to follow if statements with an else! why do think that is?"
   ]
  },
  {
   "cell_type": "markdown",
   "metadata": {},
   "source": [
    "```python\n",
    "def check_10(x):\n",
    "    if x == 10:\n",
    "        return true\n",
    "```\n",
    "\n",
    "what if anything is problematic about the above function?\n",
    "    \n"
   ]
  },
  {
   "cell_type": "markdown",
   "metadata": {},
   "source": [
    "# `else`\n",
    "\n",
    "`else` represents the default statement, what to do when conditions are not met.\n",
    "\n",
    "```python\n",
    "mortys_turn = True\n",
    "if mortys_turn:\n",
    "    print(\"Morty gets to pick an adventure.\")\n",
    "else:\n",
    "    print(\"It is Rick's turn. As always.\")\n",
    "```"
   ]
  },
  {
   "cell_type": "markdown",
   "metadata": {
    "slideshow": {
     "slide_type": "subslide"
    }
   },
   "source": [
    "### Exercise\n",
    "\n",
    "- Create a variable that holds the value `3`\n",
    "- print `EQUAL FOR ALL` if it is equal to 3 using equality comparison \n",
    "- print `IDENTITY FOR ALL` if it is equal to 3 using identity comparison\n",
    "- Check if the variable has value (check if it is not None)\n",
    "- Create a variable that holds the value `10`\n",
    "- print `TEN AND THREE` if the first variable is equal to 3 AND the second is equal to 10\n",
    "    - how many ways could this be done?"
   ]
  },
  {
   "cell_type": "code",
   "execution_count": null,
   "metadata": {
    "collapsed": true,
    "slideshow": {
     "slide_type": "slide"
    }
   },
   "outputs": [],
   "source": []
  },
  {
   "cell_type": "markdown",
   "metadata": {
    "slideshow": {
     "slide_type": "subslide"
    }
   },
   "source": [
    "### Exercise\n",
    "\n",
    "Declare and instantiate variables to store a users details (name, height and year of birth)\n",
    "- if the name has less than 10 characters print \"Hey &lt;name>\" else print \"What a long name you have &lt;name>!\"\n",
    "- Calculate their (approximate, you do not have the month) age from the year of birth\n",
    "- Print their age if they are greater than 18 or print \"You should be at school\" if they are younger\n",
    "\n"
   ]
  },
  {
   "cell_type": "code",
   "execution_count": null,
   "metadata": {
    "collapsed": true,
    "slideshow": {
     "slide_type": "slide"
    }
   },
   "outputs": [],
   "source": []
  },
  {
   "cell_type": "markdown",
   "metadata": {
    "slideshow": {
     "slide_type": "slide"
    }
   },
   "source": [
    "# `elif`\n",
    "\n",
    "Any guesses as to what this stands for? How would you use it?\n",
    "\n",
    "Look at the code below, can you find any errors?"
   ]
  },
  {
   "cell_type": "code",
   "execution_count": null,
   "metadata": {
    "collapsed": true,
    "slideshow": {
     "slide_type": "fragment"
    }
   },
   "outputs": [],
   "source": [
    "age = 20\n",
    "if age < 13:\n",
    "    print(\"Child\")\n",
    "elif age > 13 and age < 20:\n",
    "    print(\"Teenager\")\n",
    "elif age >= 21 and age < 140:\n",
    "    print(\"Adult\")\n",
    "else:\n",
    "    print(\"HOW HAVE YOU CHEATED DEATH?\")\n",
    "    print(\"YOU ARE A MACHINE\")"
   ]
  },
  {
   "cell_type": "markdown",
   "metadata": {
    "slideshow": {
     "slide_type": "fragment"
    }
   },
   "source": [
    "What happens if multiple elifs are TRUE?"
   ]
  },
  {
   "cell_type": "markdown",
   "metadata": {
    "slideshow": {
     "slide_type": "subslide"
    }
   },
   "source": [
    "### What is the difference with this? \n",
    "\n",
    "```python\n",
    "age = 800\n",
    "if age < 13:\n",
    "    print(\"Child\")\n",
    "if age > 13 and age < 20:\n",
    "    print(\"Teenager\")\n",
    "if age >= 21 and age < 140:\n",
    "    print(\"Adult\")\n",
    "else:\n",
    "    print(\"HOW HAVE YOU CHEATED DEATH?\")\n",
    "    print(\"YOU ARE A MACHINE\")\n",
    "```"
   ]
  },
  {
   "cell_type": "markdown",
   "metadata": {
    "slideshow": {
     "slide_type": "slide"
    }
   },
   "source": [
    "# Precedence \n",
    "\n",
    "When you see if statements in most other languages you are probably used to seeing this:\n",
    "\n",
    "`if(x < 3)`\n",
    "\n",
    "Python does care about brackets but not in the same way."
   ]
  },
  {
   "cell_type": "markdown",
   "metadata": {
    "slideshow": {
     "slide_type": "fragment"
    }
   },
   "source": [
    "`if(x > 10):`\n",
    "\n",
    "is the same as\n",
    "\n",
    "`if x > 10:`\n",
    "\n",
    "Then what are brackets for?"
   ]
  },
  {
   "cell_type": "markdown",
   "metadata": {
    "slideshow": {
     "slide_type": "subslide"
    }
   },
   "source": [
    "Precedence, or `order of evalutation`, --- PEDMAS (Parenthesis, exponations, Division, Multiplication, Addition and Subtraction)."
   ]
  },
  {
   "cell_type": "code",
   "execution_count": null,
   "metadata": {
    "collapsed": true,
    "slideshow": {
     "slide_type": "fragment"
    }
   },
   "outputs": [],
   "source": [
    "print(5 + 6 * 9)\n",
    "print((5 + 6) * 9) #see how the brackets change the order? This applies to if statements as well"
   ]
  },
  {
   "cell_type": "markdown",
   "metadata": {
    "slideshow": {
     "slide_type": "subslide"
    }
   },
   "source": [
    "### Exercise\n",
    "\n",
    "Add in brackets to make these statements give the answer printed:\n",
    "\n",
    "- 4 * 5 / 2 - 1 (Answer: 20)\n",
    "- 5 + 6 / 2 * 8 (Answer: 0.6875)\n",
    "- 4 /1 * 2 + 1 (Answer: 1.333333)"
   ]
  },
  {
   "cell_type": "code",
   "execution_count": null,
   "metadata": {
    "collapsed": true,
    "slideshow": {
     "slide_type": "slide"
    }
   },
   "outputs": [],
   "source": []
  },
  {
   "cell_type": "markdown",
   "metadata": {
    "slideshow": {
     "slide_type": "slide"
    }
   },
   "source": [
    "# Precedence\n",
    "\n",
    "Precedence is crucial when you are considering how your operations are going to be executed. Not only can it affect whether an if statement runs, it can actually the affect the output. Consider this example:\n"
   ]
  },
  {
   "cell_type": "code",
   "execution_count": null,
   "metadata": {
    "collapsed": true,
    "slideshow": {
     "slide_type": "fragment"
    }
   },
   "outputs": [],
   "source": [
    "print(1 + 1 == 1)\n",
    "print(1 + (1 == 1)) #Why does this output what it does?"
   ]
  },
  {
   "cell_type": "markdown",
   "metadata": {
    "slideshow": {
     "slide_type": "fragment"
    }
   },
   "source": [
    "This is because adding boolean and integers adds the integer equiavalent of the boolean variable, which makes `True` equal to 1."
   ]
  },
  {
   "cell_type": "markdown",
   "metadata": {
    "slideshow": {
     "slide_type": "slide"
    }
   },
   "source": [
    "# <font color=red>USER<color> `Input`\n",
    "\n",
    "If you want the user to be able to input their own information, you can use the `input` function to store their result.\n",
    "\n",
    "```python\n",
    "name = input(\"Please enter your name: \")\n",
    "print(name)\n",
    "```\n",
    "\n",
    "### Exercise\n",
    "\n",
    "Create a variable that holds a value from user input. If the input is > 20, multiple by two and print the result. Otherwise, divide by two and print it."
   ]
  },
  {
   "cell_type": "markdown",
   "metadata": {},
   "source": [
    "<video controls src=\"videos/jupyter/input_s.mov\">animation</video>"
   ]
  },
  {
   "cell_type": "markdown",
   "metadata": {
    "slideshow": {
     "slide_type": "slide"
    }
   },
   "source": [
    "Note:\n",
    "Many times students mistake user input with input to a function. \n",
    "\n",
    "When I ask to write a function that takes as input two arguments I am refering to the number of formal arguments.\n",
    "e.g. \n",
    "```python def my_function(num1,num2) :```\n",
    "\n",
    "It NEVER means that the function inside will have a call for two user inputs. It will be worded differently.\n",
    "\n",
    "e.g. ```python def my_function():\n",
    "    user_in = input(\"Give two numbers\")\n",
    "    num1 = input(\"1st number\")\n",
    "    num2 = input(\"2nd number\")```\n",
    "    \n",
    "Why is this practise bad?\n",
    "\n",
    "(You might as well have such a function, but it is not the answer when someone asks you to write a function that takes x inputs.) \n",
    "\n"
   ]
  },
  {
   "cell_type": "markdown",
   "metadata": {
    "slideshow": {
     "slide_type": "slide"
    }
   },
   "source": [
    "# Putting it all together"
   ]
  },
  {
   "cell_type": "markdown",
   "metadata": {
    "slideshow": {
     "slide_type": "slide"
    }
   },
   "source": [
    "Define a function give_name that takes no arguments. The function should ask the user to give their name. If the does not give a real name print an error message elst print \"Thank you &lt;name>\""
   ]
  },
  {
   "cell_type": "code",
   "execution_count": null,
   "metadata": {
    "collapsed": true,
    "slideshow": {
     "slide_type": "fragment"
    }
   },
   "outputs": [],
   "source": []
  },
  {
   "cell_type": "markdown",
   "metadata": {
    "slideshow": {
     "slide_type": "slide"
    }
   },
   "source": [
    "Change the function so that it returns the name if it real or returns 0 if it is not. "
   ]
  },
  {
   "cell_type": "markdown",
   "metadata": {
    "slideshow": {
     "slide_type": "slide"
    }
   },
   "source": [
    "# Fin\n",
    "\n",
    "![insert](img/robots.jpg)\n",
    "\n"
   ]
  },
  {
   "cell_type": "code",
   "execution_count": null,
   "metadata": {
    "collapsed": true
   },
   "outputs": [],
   "source": []
  }
 ],
 "metadata": {
  "celltoolbar": "Slideshow",
  "kernelspec": {
   "display_name": "Python 3",
   "language": "python",
   "name": "python3"
  },
  "language_info": {
   "codemirror_mode": {
    "name": "ipython",
    "version": 3
   },
   "file_extension": ".py",
   "mimetype": "text/x-python",
   "name": "python",
   "nbconvert_exporter": "python",
   "pygments_lexer": "ipython3",
   "version": "3.8.5"
  },
  "latex_envs": {
   "bibliofile": "biblio.bib",
   "cite_by": "apalike",
   "current_citInitial": 1,
   "eqLabelWithNumbers": true,
   "eqNumInitial": 0
  },
  "nav_menu": {},
  "toc": {
   "navigate_menu": true,
   "number_sections": true,
   "sideBar": true,
   "threshold": 6,
   "toc_cell": false,
   "toc_section_display": "block",
   "toc_window_display": false
  }
 },
 "nbformat": 4,
 "nbformat_minor": 1
}
