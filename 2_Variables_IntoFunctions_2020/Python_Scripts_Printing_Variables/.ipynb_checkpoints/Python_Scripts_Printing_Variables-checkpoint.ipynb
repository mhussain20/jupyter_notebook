{
 "cells": [
  {
   "cell_type": "markdown",
   "metadata": {},
   "source": [
    "# Practicals"
   ]
  },
  {
   "cell_type": "markdown",
   "metadata": {},
   "source": [
    "## Creating scripts - executing them"
   ]
  },
  {
   "cell_type": "markdown",
   "metadata": {},
   "source": [
    "Create a script printing.py and add the following.\n",
    "\n",
    "``` python\n",
    "#Start of message\n",
    "print(\"Hello\",\"what does the , do?\")\n",
    "#Blank line\n",
    "print()\n",
    "#End of message\n",
    "print(\"I wonder what will happen if we add the keyword, end ?\")#first time exploring keywords in functions\n",
    "print(\"Perhaps the pythond documentation \",\" for print would help\")\n",
    "```"
   ]
  },
  {
   "cell_type": "markdown",
   "metadata": {},
   "source": [
    "Can you change the above so the end result looks like this:\n",
    "\n",
    "\n",
    "![insert](img/printingpy.png)\n",
    "\n",
    "\n",
    "\n",
    "Can you do it without adding new print commands? \n"
   ]
  },
  {
   "cell_type": "markdown",
   "metadata": {
    "collapsed": true
   },
   "source": [
    "## Scripts with Variables\n",
    "\n",
    "Exploring types."
   ]
  },
  {
   "cell_type": "markdown",
   "metadata": {},
   "source": [
    "Create a script types.py\n",
    "\n",
    "Replace ### in the code with anything appropriate to get the below result. "
   ]
  },
  {
   "cell_type": "markdown",
   "metadata": {},
   "source": [
    "```python\n",
    "my_boolean = ###\n",
    "my_float = ###\n",
    "my_int = ###\n",
    "\n",
    "print(f'### ={###} ### {###}')\n",
    "print(f'### ={###} ### {###}')\n",
    "print(f'### ={###} ### {###}')\n",
    "```\n",
    "\n",
    "My Answer: \n",
    "```python\n",
    "my_boolean = True\n",
    "my_float = 0.3\n",
    "my_int = 7\n",
    "\n",
    "print(f'my_boolean ={my_boolean} type is: {type(my_boolean)}')\n",
    "print(f'my_float ={my_float} type is: {type(my_float)}')\n",
    "print(f'my_int ={my_int} type is: {type(my_int)}')\n",
    "```"
   ]
  },
  {
   "cell_type": "markdown",
   "metadata": {},
   "source": [
    "### Result\n",
    "\n",
    "![insert](img/types.png)"
   ]
  },
  {
   "cell_type": "markdown",
   "metadata": {
    "collapsed": true
   },
   "source": [
    "Can you re-write the print commands using format instead of f'"
   ]
  },
  {
   "cell_type": "code",
   "execution_count": 1,
   "metadata": {},
   "outputs": [
    {
     "name": "stdout",
     "output_type": "stream",
     "text": [
      "my_boolean =True type is: <class 'bool'>\n",
      "my_float =0.3 type is: <class 'float'>\n",
      "my_int =7 type is: <class 'int'>\n"
     ]
    }
   ],
   "source": [
    "my_boolean = True\n",
    "my_float = 0.3\n",
    "my_int = 7\n",
    "\n",
    "print(\"my_boolean ={my_boolean} type is: {booltype}\".format(my_boolean = True, booltype = type(my_boolean)))\n",
    "print(\"my_float ={my_float} type is: {floattype}\".format(my_float = 0.3, floattype = type(my_float)))\n",
    "print(\"my_int ={my_int} type is: {inttype}\".format(my_int = 7, inttype = type(my_int)))"
   ]
  }
 ],
 "metadata": {
  "kernelspec": {
   "display_name": "Python 3",
   "language": "python",
   "name": "python3"
  },
  "language_info": {
   "codemirror_mode": {
    "name": "ipython",
    "version": 3
   },
   "file_extension": ".py",
   "mimetype": "text/x-python",
   "name": "python",
   "nbconvert_exporter": "python",
   "pygments_lexer": "ipython3",
   "version": "3.8.5"
  }
 },
 "nbformat": 4,
 "nbformat_minor": 2
}
