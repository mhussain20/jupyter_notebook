{
 "cells": [
  {
   "cell_type": "markdown",
   "metadata": {
    "nbgrader": {
     "grade": false,
     "grade_id": "q1",
     "locked": true,
     "solution": false
    }
   },
   "source": [
    "# Session 2: Homework\n",
    "\n",
    "**Create 3 variables to describe this module:**\n",
    "1. the name (called `name`): Computational Thinking\n",
    "2. the code (called `code`): CM6114\n",
    "3. the number of credits (called `credits`): 20\n",
    "\n",
    "**Use multi-variable assignment **"
   ]
  },
  {
   "cell_type": "markdown",
   "metadata": {
    "nbgrader": {
     "grade": false,
     "grade_id": "q3",
     "locked": true,
     "solution": false
    }
   },
   "source": [
    "**Look at the code below and fix the string in order to ensure it can be printed.<br>\n",
    "'Who's been eating my porridge?' said Papa Bear**"
   ]
  },
  {
   "cell_type": "code",
   "execution_count": 1,
   "metadata": {
    "nbgrader": {
     "grade": false,
     "grade_id": "q3_ans",
     "locked": false,
     "solution": true
    }
   },
   "outputs": [
    {
     "name": "stdout",
     "output_type": "stream",
     "text": [
      "Who's been eating my porridge? said Papa Bear\n"
     ]
    }
   ],
   "source": [
    "my_string = \"Who's been eating my porridge? said Papa Bear\";\n",
    "print(my_string)"
   ]
  },
  {
   "cell_type": "markdown",
   "metadata": {
    "nbgrader": {
     "grade": false,
     "grade_id": "q4",
     "locked": true,
     "solution": false
    }
   },
   "source": [
    "**Using operators, change the string below to print it 400 times.**"
   ]
  },
  {
   "cell_type": "code",
   "execution_count": 7,
   "metadata": {
    "nbgrader": {
     "grade": false,
     "grade_id": "q4_ans",
     "locked": false,
     "solution": true
    }
   },
   "outputs": [
    {
     "name": "stdout",
     "output_type": "stream",
     "text": [
      "\n",
      " Me, but 400 more times\n",
      " Me, but 400 more times\n",
      " Me, but 400 more times\n",
      " Me, but 400 more times\n",
      " Me, but 400 more times\n",
      " Me, but 400 more times\n",
      " Me, but 400 more times\n",
      " Me, but 400 more times\n",
      " Me, but 400 more times\n",
      " Me, but 400 more times\n",
      " Me, but 400 more times\n",
      " Me, but 400 more times\n",
      " Me, but 400 more times\n",
      " Me, but 400 more times\n",
      " Me, but 400 more times\n",
      " Me, but 400 more times\n",
      " Me, but 400 more times\n",
      " Me, but 400 more times\n",
      " Me, but 400 more times\n",
      " Me, but 400 more times\n",
      " Me, but 400 more times\n",
      " Me, but 400 more times\n",
      " Me, but 400 more times\n",
      " Me, but 400 more times\n",
      " Me, but 400 more times\n",
      " Me, but 400 more times\n",
      " Me, but 400 more times\n",
      " Me, but 400 more times\n",
      " Me, but 400 more times\n",
      " Me, but 400 more times\n",
      " Me, but 400 more times\n",
      " Me, but 400 more times\n",
      " Me, but 400 more times\n",
      " Me, but 400 more times\n",
      " Me, but 400 more times\n",
      " Me, but 400 more times\n",
      " Me, but 400 more times\n",
      " Me, but 400 more times\n",
      " Me, but 400 more times\n",
      " Me, but 400 more times\n",
      " Me, but 400 more times\n",
      " Me, but 400 more times\n",
      " Me, but 400 more times\n",
      " Me, but 400 more times\n",
      " Me, but 400 more times\n",
      " Me, but 400 more times\n",
      " Me, but 400 more times\n",
      " Me, but 400 more times\n",
      " Me, but 400 more times\n",
      " Me, but 400 more times\n",
      " Me, but 400 more times\n",
      " Me, but 400 more times\n",
      " Me, but 400 more times\n",
      " Me, but 400 more times\n",
      " Me, but 400 more times\n",
      " Me, but 400 more times\n",
      " Me, but 400 more times\n",
      " Me, but 400 more times\n",
      " Me, but 400 more times\n",
      " Me, but 400 more times\n",
      " Me, but 400 more times\n",
      " Me, but 400 more times\n",
      " Me, but 400 more times\n",
      " Me, but 400 more times\n",
      " Me, but 400 more times\n",
      " Me, but 400 more times\n",
      " Me, but 400 more times\n",
      " Me, but 400 more times\n",
      " Me, but 400 more times\n",
      " Me, but 400 more times\n",
      " Me, but 400 more times\n",
      " Me, but 400 more times\n",
      " Me, but 400 more times\n",
      " Me, but 400 more times\n",
      " Me, but 400 more times\n",
      " Me, but 400 more times\n",
      " Me, but 400 more times\n",
      " Me, but 400 more times\n",
      " Me, but 400 more times\n",
      " Me, but 400 more times\n",
      " Me, but 400 more times\n",
      " Me, but 400 more times\n",
      " Me, but 400 more times\n",
      " Me, but 400 more times\n",
      " Me, but 400 more times\n",
      " Me, but 400 more times\n",
      " Me, but 400 more times\n",
      " Me, but 400 more times\n",
      " Me, but 400 more times\n",
      " Me, but 400 more times\n",
      " Me, but 400 more times\n",
      " Me, but 400 more times\n",
      " Me, but 400 more times\n",
      " Me, but 400 more times\n",
      " Me, but 400 more times\n",
      " Me, but 400 more times\n",
      " Me, but 400 more times\n",
      " Me, but 400 more times\n",
      " Me, but 400 more times\n",
      " Me, but 400 more times\n",
      " Me, but 400 more times\n",
      " Me, but 400 more times\n",
      " Me, but 400 more times\n",
      " Me, but 400 more times\n",
      " Me, but 400 more times\n",
      " Me, but 400 more times\n",
      " Me, but 400 more times\n",
      " Me, but 400 more times\n",
      " Me, but 400 more times\n",
      " Me, but 400 more times\n",
      " Me, but 400 more times\n",
      " Me, but 400 more times\n",
      " Me, but 400 more times\n",
      " Me, but 400 more times\n",
      " Me, but 400 more times\n",
      " Me, but 400 more times\n",
      " Me, but 400 more times\n",
      " Me, but 400 more times\n",
      " Me, but 400 more times\n",
      " Me, but 400 more times\n",
      " Me, but 400 more times\n",
      " Me, but 400 more times\n",
      " Me, but 400 more times\n",
      " Me, but 400 more times\n",
      " Me, but 400 more times\n",
      " Me, but 400 more times\n",
      " Me, but 400 more times\n",
      " Me, but 400 more times\n",
      " Me, but 400 more times\n",
      " Me, but 400 more times\n",
      " Me, but 400 more times\n",
      " Me, but 400 more times\n",
      " Me, but 400 more times\n",
      " Me, but 400 more times\n",
      " Me, but 400 more times\n",
      " Me, but 400 more times\n",
      " Me, but 400 more times\n",
      " Me, but 400 more times\n",
      " Me, but 400 more times\n",
      " Me, but 400 more times\n",
      " Me, but 400 more times\n",
      " Me, but 400 more times\n",
      " Me, but 400 more times\n",
      " Me, but 400 more times\n",
      " Me, but 400 more times\n",
      " Me, but 400 more times\n",
      " Me, but 400 more times\n",
      " Me, but 400 more times\n",
      " Me, but 400 more times\n",
      " Me, but 400 more times\n",
      " Me, but 400 more times\n",
      " Me, but 400 more times\n",
      " Me, but 400 more times\n",
      " Me, but 400 more times\n",
      " Me, but 400 more times\n",
      " Me, but 400 more times\n",
      " Me, but 400 more times\n",
      " Me, but 400 more times\n",
      " Me, but 400 more times\n",
      " Me, but 400 more times\n",
      " Me, but 400 more times\n",
      " Me, but 400 more times\n",
      " Me, but 400 more times\n",
      " Me, but 400 more times\n",
      " Me, but 400 more times\n",
      " Me, but 400 more times\n",
      " Me, but 400 more times\n",
      " Me, but 400 more times\n",
      " Me, but 400 more times\n",
      " Me, but 400 more times\n",
      " Me, but 400 more times\n",
      " Me, but 400 more times\n",
      " Me, but 400 more times\n",
      " Me, but 400 more times\n",
      " Me, but 400 more times\n",
      " Me, but 400 more times\n",
      " Me, but 400 more times\n",
      " Me, but 400 more times\n",
      " Me, but 400 more times\n",
      " Me, but 400 more times\n",
      " Me, but 400 more times\n",
      " Me, but 400 more times\n",
      " Me, but 400 more times\n",
      " Me, but 400 more times\n",
      " Me, but 400 more times\n",
      " Me, but 400 more times\n",
      " Me, but 400 more times\n",
      " Me, but 400 more times\n",
      " Me, but 400 more times\n",
      " Me, but 400 more times\n",
      " Me, but 400 more times\n",
      " Me, but 400 more times\n",
      " Me, but 400 more times\n",
      " Me, but 400 more times\n",
      " Me, but 400 more times\n",
      " Me, but 400 more times\n",
      " Me, but 400 more times\n",
      " Me, but 400 more times\n",
      " Me, but 400 more times\n",
      " Me, but 400 more times\n",
      " Me, but 400 more times\n",
      " Me, but 400 more times\n",
      " Me, but 400 more times\n",
      " Me, but 400 more times\n",
      " Me, but 400 more times\n",
      " Me, but 400 more times\n",
      " Me, but 400 more times\n",
      " Me, but 400 more times\n",
      " Me, but 400 more times\n",
      " Me, but 400 more times\n",
      " Me, but 400 more times\n",
      " Me, but 400 more times\n",
      " Me, but 400 more times\n",
      " Me, but 400 more times\n",
      " Me, but 400 more times\n",
      " Me, but 400 more times\n",
      " Me, but 400 more times\n",
      " Me, but 400 more times\n",
      " Me, but 400 more times\n",
      " Me, but 400 more times\n",
      " Me, but 400 more times\n",
      " Me, but 400 more times\n",
      " Me, but 400 more times\n",
      " Me, but 400 more times\n",
      " Me, but 400 more times\n",
      " Me, but 400 more times\n",
      " Me, but 400 more times\n",
      " Me, but 400 more times\n",
      " Me, but 400 more times\n",
      " Me, but 400 more times\n",
      " Me, but 400 more times\n",
      " Me, but 400 more times\n",
      " Me, but 400 more times\n",
      " Me, but 400 more times\n",
      " Me, but 400 more times\n",
      " Me, but 400 more times\n",
      " Me, but 400 more times\n",
      " Me, but 400 more times\n",
      " Me, but 400 more times\n",
      " Me, but 400 more times\n",
      " Me, but 400 more times\n",
      " Me, but 400 more times\n",
      " Me, but 400 more times\n",
      " Me, but 400 more times\n",
      " Me, but 400 more times\n",
      " Me, but 400 more times\n",
      " Me, but 400 more times\n",
      " Me, but 400 more times\n",
      " Me, but 400 more times\n",
      " Me, but 400 more times\n",
      " Me, but 400 more times\n",
      " Me, but 400 more times\n",
      " Me, but 400 more times\n",
      " Me, but 400 more times\n",
      " Me, but 400 more times\n",
      " Me, but 400 more times\n",
      " Me, but 400 more times\n",
      " Me, but 400 more times\n",
      " Me, but 400 more times\n",
      " Me, but 400 more times\n",
      " Me, but 400 more times\n",
      " Me, but 400 more times\n",
      " Me, but 400 more times\n",
      " Me, but 400 more times\n",
      " Me, but 400 more times\n",
      " Me, but 400 more times\n",
      " Me, but 400 more times\n",
      " Me, but 400 more times\n",
      " Me, but 400 more times\n",
      " Me, but 400 more times\n",
      " Me, but 400 more times\n",
      " Me, but 400 more times\n",
      " Me, but 400 more times\n",
      " Me, but 400 more times\n",
      " Me, but 400 more times\n",
      " Me, but 400 more times\n",
      " Me, but 400 more times\n",
      " Me, but 400 more times\n",
      " Me, but 400 more times\n",
      " Me, but 400 more times\n",
      " Me, but 400 more times\n",
      " Me, but 400 more times\n",
      " Me, but 400 more times\n",
      " Me, but 400 more times\n",
      " Me, but 400 more times\n",
      " Me, but 400 more times\n",
      " Me, but 400 more times\n",
      " Me, but 400 more times\n",
      " Me, but 400 more times\n",
      " Me, but 400 more times\n",
      " Me, but 400 more times\n",
      " Me, but 400 more times\n",
      " Me, but 400 more times\n",
      " Me, but 400 more times\n",
      " Me, but 400 more times\n",
      " Me, but 400 more times\n",
      " Me, but 400 more times\n",
      " Me, but 400 more times\n",
      " Me, but 400 more times\n",
      " Me, but 400 more times\n",
      " Me, but 400 more times\n",
      " Me, but 400 more times\n",
      " Me, but 400 more times\n",
      " Me, but 400 more times\n",
      " Me, but 400 more times\n",
      " Me, but 400 more times\n",
      " Me, but 400 more times\n",
      " Me, but 400 more times\n",
      " Me, but 400 more times\n",
      " Me, but 400 more times\n",
      " Me, but 400 more times\n",
      " Me, but 400 more times\n",
      " Me, but 400 more times\n",
      " Me, but 400 more times\n",
      " Me, but 400 more times\n",
      " Me, but 400 more times\n",
      " Me, but 400 more times\n",
      " Me, but 400 more times\n",
      " Me, but 400 more times\n",
      " Me, but 400 more times\n",
      " Me, but 400 more times\n",
      " Me, but 400 more times\n",
      " Me, but 400 more times\n",
      " Me, but 400 more times\n",
      " Me, but 400 more times\n",
      " Me, but 400 more times\n",
      " Me, but 400 more times\n",
      " Me, but 400 more times\n",
      " Me, but 400 more times\n",
      " Me, but 400 more times\n",
      " Me, but 400 more times\n",
      " Me, but 400 more times\n",
      " Me, but 400 more times\n",
      " Me, but 400 more times\n",
      " Me, but 400 more times\n",
      " Me, but 400 more times\n",
      " Me, but 400 more times\n",
      " Me, but 400 more times\n",
      " Me, but 400 more times\n",
      " Me, but 400 more times\n",
      " Me, but 400 more times\n",
      " Me, but 400 more times\n",
      " Me, but 400 more times\n",
      " Me, but 400 more times\n",
      " Me, but 400 more times\n",
      " Me, but 400 more times\n",
      " Me, but 400 more times\n",
      " Me, but 400 more times\n",
      " Me, but 400 more times\n",
      " Me, but 400 more times\n",
      " Me, but 400 more times\n",
      " Me, but 400 more times\n",
      " Me, but 400 more times\n",
      " Me, but 400 more times\n",
      " Me, but 400 more times\n",
      " Me, but 400 more times\n",
      " Me, but 400 more times\n",
      " Me, but 400 more times\n",
      " Me, but 400 more times\n",
      " Me, but 400 more times\n",
      " Me, but 400 more times\n",
      " Me, but 400 more times\n",
      " Me, but 400 more times\n",
      " Me, but 400 more times\n",
      " Me, but 400 more times\n",
      " Me, but 400 more times\n",
      " Me, but 400 more times\n",
      " Me, but 400 more times\n",
      " Me, but 400 more times\n",
      " Me, but 400 more times\n",
      " Me, but 400 more times\n",
      " Me, but 400 more times\n",
      " Me, but 400 more times\n",
      " Me, but 400 more times\n",
      " Me, but 400 more times\n",
      " Me, but 400 more times\n",
      " Me, but 400 more times\n",
      " Me, but 400 more times\n",
      " Me, but 400 more times\n",
      " Me, but 400 more times\n",
      " Me, but 400 more times\n",
      " Me, but 400 more times\n",
      " Me, but 400 more times\n",
      " Me, but 400 more times\n",
      " Me, but 400 more times\n",
      " Me, but 400 more times\n",
      " Me, but 400 more times\n",
      " Me, but 400 more times\n",
      " Me, but 400 more times\n",
      " Me, but 400 more times\n",
      " Me, but 400 more times\n",
      " Me, but 400 more times\n",
      " Me, but 400 more times\n",
      " Me, but 400 more times\n",
      " Me, but 400 more times\n",
      " Me, but 400 more times\n",
      " Me, but 400 more times\n",
      " Me, but 400 more times\n",
      " Me, but 400 more times\n",
      " Me, but 400 more times\n"
     ]
    }
   ],
   "source": [
    "to_print = 400*\"\\n Me, but 400 more times\"\n",
    "print(to_print) #do not change or repeat this line"
   ]
  },
  {
   "cell_type": "markdown",
   "metadata": {
    "collapsed": true,
    "nbgrader": {
     "grade": false,
     "grade_id": "q5",
     "locked": true,
     "solution": false
    }
   },
   "source": [
    "**Use the variables below to assign the length of the string and convert the average word length to a string and assign the concatenated string of both variables to the final var**"
   ]
  },
  {
   "cell_type": "code",
   "execution_count": null,
   "metadata": {
    "collapsed": true,
    "nbgrader": {
     "grade": false,
     "grade_id": "q5_ans",
     "locked": false,
     "solution": true
    }
   },
   "outputs": [],
   "source": [
    "string_sample = \"Hello my name is Morty and I love to write sentences with no punctuation and this makes it really difficult to read and follow\"\n",
    "length_sample = #calc length here\n",
    "string_avg = length_sample / len(string_sample.split(\" \"))\n",
    "print(string_avg)\n",
    "to_print = #print average word length AND string_sample here, like this <Average><String> (NO SPACES!)\n",
    "print(to_print)"
   ]
  },
  {
   "cell_type": "markdown",
   "metadata": {},
   "source": [
    "** Print: **<br>\n",
    "\n",
    "Here are the months: <br>\n",
    "\"Jan\"<br>\n",
    "\"Feb\"<br>\n",
    "\"Apr\"<br>\n",
    "...<br>\n",
    "\n",
    "**Using only two string variable, one for the: \"Here are the months\" and a second for all the months. **"
   ]
  },
  {
   "cell_type": "code",
   "execution_count": null,
   "metadata": {
    "collapsed": true
   },
   "outputs": [],
   "source": []
  },
  {
   "cell_type": "markdown",
   "metadata": {},
   "source": [
    "**Create two variables, one to store the value of number and a second to store the power to which to raise it. Print out the number at raised tha the power. For example for the number 3 and power 2 you should print: \"The 2 power of 3 is 9.\"**\n",
    "\n",
    "**EXTRA:Can you convert the above to a funciton? Write a function at_power(pow) that takes as input argument one number and returns the number at the power of itself. e.g. at_power(2) should return 4 and at_power(3) should return 27**"
   ]
  },
  {
   "cell_type": "code",
   "execution_count": null,
   "metadata": {
    "collapsed": true
   },
   "outputs": [],
   "source": []
  },
  {
   "cell_type": "markdown",
   "metadata": {},
   "source": [
    "**Create two variables bill_amount and tip_rate. Use them to compute the tip and print both the tip and the total amount of the bill.**\n",
    "\n",
    "\n",
    "**EXTRA:Can you enclose this in a function, so that bill_amount and tip_rate take values from the arguments of the function?**"
   ]
  },
  {
   "cell_type": "markdown",
   "metadata": {},
   "source": [
    "Think what variables you need to define. (Look for nouns.)\n",
    "\n",
    "Define inputs, outputs and processes. "
   ]
  },
  {
   "cell_type": "code",
   "execution_count": 19,
   "metadata": {},
   "outputs": [
    {
     "data": {
      "text/plain": [
       "(525.0, 25.0)"
      ]
     },
     "execution_count": 19,
     "metadata": {},
     "output_type": "execute_result"
    }
   ],
   "source": [
    "def total_bill(bill_amount,tip_rate):\n",
    "    if tip_rate > 1:\n",
    "        tip_rate = tip_rate /100\n",
    "    tip_amount = bill_amount * tip_rate\n",
    "    bill_amount += tip_amount\n",
    "    return bill_amount, tip_amount\n",
    "\n",
    "total_bill(500, 5)"
   ]
  },
  {
   "cell_type": "code",
   "execution_count": null,
   "metadata": {},
   "outputs": [],
   "source": [
    "first_name = \"Mohammed\"\n",
    "last_name = \"Hussain\"\n",
    "\n",
    "def initials(fname, lname):\n",
    "    user_initials = fname[0] + lname[0]\n",
    "    return user_initials\n",
    "\n",
    "print(initials(first_name, last_name))"
   ]
  },
  {
   "cell_type": "markdown",
   "metadata": {
    "collapsed": true,
    "nbgrader": {
     "grade": false,
     "grade_id": "q6",
     "locked": true,
     "solution": false
    }
   },
   "source": [
    "**Why is the code below valid? **\n",
    "\n",
    "Why are the 2 answers different? \n",
    "\n",
    "What is the output of `int(false)`?"
   ]
  },
  {
   "cell_type": "code",
   "execution_count": null,
   "metadata": {
    "collapsed": true,
    "nbgrader": {
     "grade": false,
     "grade_id": "q6_code",
     "locked": true,
     "solution": false
    }
   },
   "outputs": [],
   "source": [
    "print(True + 3 * 100)\n",
    "print((True + 3) * 100)"
   ]
  },
  {
   "cell_type": "code",
   "execution_count": null,
   "metadata": {
    "collapsed": true
   },
   "outputs": [],
   "source": []
  },
  {
   "cell_type": "markdown",
   "metadata": {},
   "source": [
    "**Write the variables you think we will need for the two red queens simulations with their initial values? **\n"
   ]
  },
  {
   "cell_type": "code",
   "execution_count": null,
   "metadata": {
    "collapsed": true
   },
   "outputs": [],
   "source": []
  },
  {
   "cell_type": "markdown",
   "metadata": {},
   "source": [
    "**Write a \"recipe\", step by step instructions for the two red queens trick.**\n",
    "\n",
    "Advice: get a card deck and try it first on your own."
   ]
  },
  {
   "cell_type": "code",
   "execution_count": null,
   "metadata": {
    "collapsed": true
   },
   "outputs": [],
   "source": []
  },
  {
   "cell_type": "markdown",
   "metadata": {},
   "source": [
    "** There are 2.204 pounds in a kilogram. Create a variable to store weight in pounds and then print at the screen the same weight in kilos. **"
   ]
  },
  {
   "cell_type": "code",
   "execution_count": null,
   "metadata": {
    "collapsed": true
   },
   "outputs": [],
   "source": [
    "def lbs_kg(weight_lbs):\n",
    "    new_weight = weight_lbs / 2.204\n",
    "    return new_weight\n",
    "    \n",
    "def kg_lbs(weight_kg):\n",
    "    new_weight = weight_kg * 2.204\n",
    "    return new_weight\n",
    "    "
   ]
  }
 ],
 "metadata": {
  "celltoolbar": "Create Assignment",
  "kernelspec": {
   "display_name": "Python 3",
   "language": "python",
   "name": "python3"
  },
  "language_info": {
   "codemirror_mode": {
    "name": "ipython",
    "version": 3
   },
   "file_extension": ".py",
   "mimetype": "text/x-python",
   "name": "python",
   "nbconvert_exporter": "python",
   "pygments_lexer": "ipython3",
   "version": "3.8.5"
  }
 },
 "nbformat": 4,
 "nbformat_minor": 1
}
