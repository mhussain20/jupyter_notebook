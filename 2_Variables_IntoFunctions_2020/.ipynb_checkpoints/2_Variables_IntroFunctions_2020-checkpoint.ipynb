{
 "cells": [
  {
   "cell_type": "markdown",
   "metadata": {
    "slideshow": {
     "slide_type": "slide"
    }
   },
   "source": [
    "# Coding in Python\n",
    "\n",
    "## Dr. Alexia Zoumpoulaki\n",
    "### zoumpoulakia@cardiff.ac.uk"
   ]
  },
  {
   "cell_type": "code",
   "execution_count": null,
   "metadata": {
    "collapsed": true
   },
   "outputs": [],
   "source": [
    "print(\"Hello world\")"
   ]
  },
  {
   "cell_type": "markdown",
   "metadata": {
    "slideshow": {
     "slide_type": "slide"
    }
   },
   "source": [
    "![insert](img/bugs_rich.png)\n",
    "\n",
    "# What we have learned so far?\n",
    "- Introduction to computional thinking\n",
    "- Overview of Python\n",
    "    - Python interpreter\n",
    "    - Basic syntax\n",
    "    - Debugging"
   ]
  },
  {
   "cell_type": "markdown",
   "metadata": {
    "slideshow": {
     "slide_type": "slide"
    }
   },
   "source": [
    "# What we will cover today?\n",
    "- good practises\n",
    "- variables\n",
    "- functions"
   ]
  },
  {
   "cell_type": "markdown",
   "metadata": {
    "slideshow": {
     "slide_type": "slide"
    }
   },
   "source": [
    "## But let's start with a <a href=https://www.youtube.com/watch?v=b94xSqTb_zY>video<a>"
   ]
  },
  {
   "cell_type": "markdown",
   "metadata": {},
   "source": [
    "<video controls src=\"videos/jupyter/2rq_s.mov\">animation</video>"
   ]
  },
  {
   "cell_type": "markdown",
   "metadata": {
    "slideshow": {
     "slide_type": "slide"
    }
   },
   "source": [
    "What if someone asked us to create a python program to simulate the card trick?\n",
    "\n",
    "How would we start? "
   ]
  },
  {
   "cell_type": "markdown",
   "metadata": {
    "slideshow": {
     "slide_type": "slide"
    }
   },
   "source": [
    "- decomposition\n",
    "- (re) formulation\n",
    "- data representantion <font color = red><<</font>\n",
    "- abstraction  <font color = red><<</font>\n",
    "- algorithms\n",
    "- simplicity and elegance\n",
    "- prevention, detection, and recovery from worst-case scenarios"
   ]
  },
  {
   "cell_type": "markdown",
   "metadata": {
    "slideshow": {
     "slide_type": "slide"
    }
   },
   "source": [
    "# Writing in Python: PEP\n",
    "## Python Enhancement Proposals\n",
    "\n",
    "Unsure how your code should be written? PEP is a style guide for Python and provides details on what is expected.\n",
    "\n",
    "- Use 4 spaces instead of tabs \n",
    "- Lines should be up to 79 characters long\n",
    "- Variables should follow `snake_case`\n",
    "    - All lower case words, separated by underscores (_)\n",
    "- Function names should be lowercase\n",
    "- Classes should be Capitalised Words (`MyClassExample`)\n",
    "\n",
    "[PEP](https://www.python.org/dev/peps/pep-0008/)\n",
    "<br>\n",
    "<br>\n",
    "<font color='red'>A foolish consistency is the Hobgoblin of little minds. ~Ralph Waldo Emerson</font>"
   ]
  },
  {
   "cell_type": "markdown",
   "metadata": {
    "slideshow": {
     "slide_type": "slide"
    }
   },
   "source": [
    "# Statements \n",
    "\n",
    "``` python\n",
    "print(\"Hello words\")\n",
    "```\n",
    "\n",
    "The above is a statement.\n",
    "\n",
    "Scripts e.g. hello.py we created on the last lecture, usually contain a sequence of statements. \n",
    "\n",
    "\n",
    "\n",
    "\n",
    "hello.py\n",
    "``` python\n",
    "name = \"Alex\"\n",
    "print(\"Hello\")\n",
    "print(name)\n",
    "```"
   ]
  },
  {
   "cell_type": "markdown",
   "metadata": {},
   "source": [
    "<video controls src=\"videos/jupyter/name_file_s.mov\">animation</video>"
   ]
  },
  {
   "cell_type": "markdown",
   "metadata": {
    "slideshow": {
     "slide_type": "slide"
    }
   },
   "source": [
    "# Comments\n",
    "\n",
    "Sometimes, you need to describe your code and the logic may be a bit complicated, or it took you a while to figure it out and you want to make a note.\n",
    "\n",
    "You can't just write some text in the file or you will get errors, this is where comments come in! Comments are descriptions that the Python interpreter ignores.\n",
    "\n",
    "Just type a `#` and what ever you want to write and voíla!\n",
    "\n",
    "**It is ALWAYS a good idea to comment your code!**"
   ]
  },
  {
   "cell_type": "code",
   "execution_count": null,
   "metadata": {
    "collapsed": true,
    "slideshow": {
     "slide_type": "subslide"
    }
   },
   "outputs": [],
   "source": [
    "import csv\n",
    "with open('test.csv', 'rt') as opened_csv:\n",
    "    spamreader = csv.reader(opened_csv, delimiter=' ', quotechar='|')\n",
    "    for row in spamreader:\n",
    "        print (''.join(row))"
   ]
  },
  {
   "cell_type": "markdown",
   "metadata": {
    "collapsed": true,
    "slideshow": {
     "slide_type": "subslide"
    }
   },
   "source": [
    "# How about this?\n",
    "\n",
    "```python\n",
    "#open csv file in readable format\n",
    "with open('test.csv', 'r') as opened_csv:\n",
    "    # read opened csv file with spaces as delimiters\n",
    "    spamreader = csv.reader(opened_csv, delimiter=' ', quotechar='|')\n",
    "    # loop through and print each line\n",
    "    for row in spamreader:\n",
    "        print (', '.join(row))\n",
    "```"
   ]
  },
  {
   "cell_type": "markdown",
   "metadata": {
    "slideshow": {
     "slide_type": "slide"
    }
   },
   "source": [
    "# Choosing appropriate names"
   ]
  },
  {
   "cell_type": "code",
   "execution_count": null,
   "metadata": {
    "collapsed": true,
    "slideshow": {
     "slide_type": "fragment"
    }
   },
   "outputs": [],
   "source": [
    "hGf = \"Rick Sanchez\"\n",
    "\n",
    "def xyx(hGf):\n",
    "    print(f'Hey: {hGf}')\n",
    "    \n",
    "xyx(hGf)"
   ]
  },
  {
   "cell_type": "code",
   "execution_count": null,
   "metadata": {
    "collapsed": true,
    "slideshow": {
     "slide_type": "fragment"
    }
   },
   "outputs": [],
   "source": [
    "name = \"Rick Sanchez\"\n",
    "\n",
    "def print_hey(name):\n",
    "    print(f'Hey: {name}')\n",
    "    \n",
    "print_hey(name)"
   ]
  },
  {
   "cell_type": "markdown",
   "metadata": {
    "slideshow": {
     "slide_type": "fragment"
    }
   },
   "source": [
    "appropriate names ===> names that imply functionality "
   ]
  },
  {
   "cell_type": "markdown",
   "metadata": {
    "slideshow": {
     "slide_type": "slide"
    }
   },
   "source": [
    "# Variables"
   ]
  },
  {
   "cell_type": "markdown",
   "metadata": {
    "slideshow": {
     "slide_type": "slide"
    }
   },
   "source": [
    "# Types\n",
    "\n",
    "Python has a type system (variables have types), even if you do not specify it when you declare them.\n",
    "\n",
    "- String\n",
    "- Float\n",
    "- Boolean\n",
    "- Integer\n",
    "- None"
   ]
  },
  {
   "cell_type": "markdown",
   "metadata": {
    "slideshow": {
     "slide_type": "subslide"
    }
   },
   "source": [
    "# Exercise\n",
    "\n",
    "Give me an example of each of these types.\n",
    "\n",
    "String : \"Hello\"\n",
    "Float : 5.46\n",
    "Boolean : TRUE\n",
    "Integer : 6\n",
    "None : \n",
    "\n",
    "What is the None type?\n",
    "This signifies an absence of a value and is its own data type, not the same as a 0 or an empty string, none signifies a lack of value\n",
    "\n",
    "Use the Internet to find me examples of 1 other type in Python\n",
    "\n",
    "List = [\"Apple\", \"Banana\"]\n",
    "\n",
    "We will come back to types as the course progresses."
   ]
  },
  {
   "cell_type": "markdown",
   "metadata": {
    "slideshow": {
     "slide_type": "subslide"
    }
   },
   "source": [
    "![insert](img/0vsnull.jpg)"
   ]
  },
  {
   "cell_type": "markdown",
   "metadata": {
    "slideshow": {
     "slide_type": "slide"
    }
   },
   "source": [
    "# Literals\n",
    "\n",
    "Literally a value.\n",
    "\n",
    "All of the examples you just gave are literals."
   ]
  },
  {
   "cell_type": "code",
   "execution_count": null,
   "metadata": {
    "collapsed": true,
    "slideshow": {
     "slide_type": "fragment"
    }
   },
   "outputs": [],
   "source": [
    "\"Jessica\" #String Literal \n",
    "42 #Integer Literal \n",
    "3.402823# float Literal"
   ]
  },
  {
   "cell_type": "markdown",
   "metadata": {
    "slideshow": {
     "slide_type": "slide"
    }
   },
   "source": [
    "## Finding the type of a value\n",
    "\n",
    "```python\n",
    "\n",
    "type(\"Jessica\")\n",
    "\n",
    "```\n",
    "\n",
    "Try type with different inputs/arguments"
   ]
  },
  {
   "cell_type": "markdown",
   "metadata": {
    "slideshow": {
     "slide_type": "slide"
    }
   },
   "source": [
    "<video controls src=\"videos/jupyter/types_s.mov\">animation</video>"
   ]
  },
  {
   "cell_type": "markdown",
   "metadata": {
    "slideshow": {
     "slide_type": "slide"
    }
   },
   "source": [
    "# Variables\n",
    "\n",
    "Literals are all well and good for printing but what about when we need to change and store these literals?\n",
    "\n",
    "Variables are ways of giving values a name in order to refer to them later.\n",
    "\n",
    "In python a variable is a name that refers to a value\n",
    "\n",
    "Below, we are **declaring** and **instantiating** a variable\n"
   ]
  },
  {
   "cell_type": "code",
   "execution_count": null,
   "metadata": {
    "collapsed": true,
    "slideshow": {
     "slide_type": "fragment"
    }
   },
   "outputs": [],
   "source": [
    "# declared and instantiated\n",
    "name = \"Jessica\"\n",
    "\n",
    "# declared, but not instantiated\n",
    "new_name = None"
   ]
  },
  {
   "cell_type": "markdown",
   "metadata": {},
   "source": [
    "We have written 2 statements. Each statement instructs the intepreter to do something. In the previous examples we instructed the interpreter to assign the variable <i>name</i> to the value \"jessica\" and the \"empty\" value to variable <i>new_name</i>"
   ]
  },
  {
   "cell_type": "code",
   "execution_count": null,
   "metadata": {
    "collapsed": true,
    "slideshow": {
     "slide_type": "fragment"
    }
   },
   "outputs": [],
   "source": [
    "x = 1    \n",
    "print(x) #we instruct the interpreter to call the function print which outputs the string value of the variable\n",
    "         #to the console"
   ]
  },
  {
   "cell_type": "markdown",
   "metadata": {
    "slideshow": {
     "slide_type": "fragment"
    }
   },
   "source": [
    "When we assign a value to a variable in python we tag the value with the variable name."
   ]
  },
  {
   "cell_type": "markdown",
   "metadata": {
    "slideshow": {
     "slide_type": "subslide"
    }
   },
   "source": [
    "Technically, Python does not have empty variables that are not instantiated. A variable exists as soon as it is assigned a value. "
   ]
  },
  {
   "cell_type": "code",
   "execution_count": null,
   "metadata": {
    "collapsed": true,
    "slideshow": {
     "slide_type": "fragment"
    }
   },
   "outputs": [],
   "source": [
    "k # does not exist so cannot call it"
   ]
  },
  {
   "cell_type": "markdown",
   "metadata": {
    "slideshow": {
     "slide_type": "slide"
    }
   },
   "source": [
    "Since variables refer to values, they also have the value's type\n",
    "\n",
    "``` python\n",
    "x = 1\n",
    "type (x)\n",
    "\n",
    "```"
   ]
  },
  {
   "cell_type": "markdown",
   "metadata": {},
   "source": [
    "<video controls src=\"videos/jupyter/variable_type_s.mov\">animation</video>"
   ]
  },
  {
   "cell_type": "markdown",
   "metadata": {
    "slideshow": {
     "slide_type": "slide"
    }
   },
   "source": [
    "# Exercise:\n",
    "\n",
    "Create a variable book and give it the value : python book.\n",
    "\n",
    "Use the print mehthod  and the variable book to print:\n",
    "\n",
    "The sugested book is: `<name of book>`\n",
    "\n",
    "book = \"python book\"\n",
    "print(\"The suggested book is: \", book)"
   ]
  },
  {
   "cell_type": "markdown",
   "metadata": {
    "slideshow": {
     "slide_type": "subslide"
    }
   },
   "source": [
    "# `id` and Multi Variable Assignment\n",
    "\n",
    "The `id` function is built into Python and returns the memory address of variables provided to it.\n",
    "\n",
    "This is easier to see when we use multi-variable assignment in Python:"
   ]
  },
  {
   "cell_type": "markdown",
   "metadata": {
    "slideshow": {
     "slide_type": "subslide"
    }
   },
   "source": [
    "Find the documentation for the id() function. "
   ]
  },
  {
   "cell_type": "markdown",
   "metadata": {
    "slideshow": {
     "slide_type": "subslide"
    }
   },
   "source": [
    "Returns the “identity” of an object. This is an integer (or long integer) which is guaranteed to be unique and constant for this object during its lifetime. Two objects with non-overlapping lifetimes may have the same id() value."
   ]
  },
  {
   "cell_type": "code",
   "execution_count": null,
   "metadata": {
    "collapsed": true,
    "slideshow": {
     "slide_type": "fragment"
    }
   },
   "outputs": [],
   "source": [
    "name, age, yob = \"rick\", 68, 1949 #NOTE: always balance the left and the right. 5 variables must have 5 values!\n",
    "print(name, age, yob)\n",
    "print(id(name), id(age), id(yob))"
   ]
  },
  {
   "cell_type": "code",
   "execution_count": null,
   "metadata": {
    "collapsed": true,
    "slideshow": {
     "slide_type": "subslide"
    }
   },
   "outputs": [],
   "source": [
    "a = 257\n",
    "b = 257\n",
    "print(id(a))\n",
    "print(id(b))"
   ]
  },
  {
   "cell_type": "code",
   "execution_count": null,
   "metadata": {
    "collapsed": true,
    "slideshow": {
     "slide_type": "subslide"
    }
   },
   "outputs": [],
   "source": [
    "a = 10000\n",
    "b = 10000\n",
    "c = b\n",
    "print(id(a))\n",
    "print(id(b))\n",
    "print(id(c))"
   ]
  },
  {
   "cell_type": "code",
   "execution_count": null,
   "metadata": {
    "collapsed": true,
    "slideshow": {
     "slide_type": "skip"
    }
   },
   "outputs": [],
   "source": [
    "x = [1]\n",
    "f = [1]\n",
    "print(id(x))\n",
    "print(id(f))"
   ]
  },
  {
   "cell_type": "code",
   "execution_count": null,
   "metadata": {
    "collapsed": true
   },
   "outputs": [],
   "source": [
    "a = 10\n",
    "b = 10\n",
    "print(id(a))\n",
    "print(id(b))"
   ]
  },
  {
   "cell_type": "markdown",
   "metadata": {
    "slideshow": {
     "slide_type": "fragment"
    }
   },
   "source": [
    "What's going on?\n",
    "\n",
    "The current implementation keeps an array of integer objects for all integers between -5 and 256. So when you create an int in that range you actually just get back a reference to the existing <font color = red>object</font>. "
   ]
  },
  {
   "cell_type": "markdown",
   "metadata": {
    "slideshow": {
     "slide_type": "slide"
    }
   },
   "source": [
    "What is an object you ask?\n",
    "\n",
    "Objects are the things we can manipulate in python. Some are build in, such as int, float, array and others we can create on our own. \n",
    "\n",
    "Objects have types and methods we can call upon them. <br>\n",
    "For example <a href = ahttps://docs.python.org/2/library/functions.html#int>int</a> objects are used to represent integers. \n",
    "\n",
    "\n",
    "We will discuss objects and mehtods further on in the course. "
   ]
  },
  {
   "cell_type": "code",
   "execution_count": 2,
   "metadata": {
    "slideshow": {
     "slide_type": "fragment"
    }
   },
   "outputs": [],
   "source": [
    "my_int = int(3)"
   ]
  },
  {
   "cell_type": "markdown",
   "metadata": {
    "slideshow": {
     "slide_type": "slide"
    }
   },
   "source": [
    "### Question:\n",
    "\n",
    "What will this return? <br>\n",
    "```python\n",
    "type('what type am I?')```\n",
    "\n",
    "this will return str"
   ]
  },
  {
   "cell_type": "markdown",
   "metadata": {
    "slideshow": {
     "slide_type": "slide"
    }
   },
   "source": [
    "# Don't Call It That:\n",
    "\n",
    "These are keywords reserved in Python, so do **not** name any of your variables after these! You will learn about what many of these do throughout this course.\n",
    "\n",
    "| | | | | |\n",
    "|-|-|-|-|-|\n",
    "| False    | class  | finally  | is    | return |\n",
    "| continue | for    | lambda   | try   | True   |\n",
    "| def      | from   | nonlocal | while | and    |\n",
    "| del      | global | not      | with  | as     |\n",
    "| elif     | if     | or       | yield | assert |\n",
    "| else     | import | pass     | break | except |\n",
    "| in       | raise  | None     |       |        |"
   ]
  },
  {
   "cell_type": "code",
   "execution_count": null,
   "metadata": {
    "collapsed": true,
    "slideshow": {
     "slide_type": "fragment"
    }
   },
   "outputs": [],
   "source": [
    "import = 3"
   ]
  },
  {
   "cell_type": "markdown",
   "metadata": {
    "slideshow": {
     "slide_type": "notes"
    }
   },
   "source": [
    "# Useful links on Python variables and types\n",
    "\n",
    "\n",
    "http://anh.cs.luc.edu/python/hands-on/3.1/handsonHtml/variables.html\n",
    "\n",
    "http://foobarnbaz.com/2012/07/08/understanding-python-variables/\n",
    "\n",
    "https://diveinto.org/python3/native-datatypes.html"
   ]
  },
  {
   "cell_type": "markdown",
   "metadata": {
    "slideshow": {
     "slide_type": "slide"
    }
   },
   "source": [
    "# Types II\n",
    "\n",
    "Python is *Strongly* *Typed* - The Python interpreter keeps track of all the variables and their associated types.\n",
    "\n",
    "AND\n",
    "\n",
    "Python is *Dynamically* *Typed* - Variables can be reassigned from their types. A variable is simply a value bound to a name, the variable does not hold a `type`, only the value does.\n"
   ]
  },
  {
   "cell_type": "markdown",
   "metadata": {
    "collapsed": true,
    "slideshow": {
     "slide_type": "subslide"
    }
   },
   "source": [
    "```python\n",
    "print(\"Hello \" + \"World\") #ok\n",
    "print(\"hello\" + 5) #strongly typed means this cannot happen!\n",
    "name = \"Alex\"\n",
    "name = \"Pi\"\n",
    "\"5\" + 6 #Strongly typed means no adding different types together!\n",
    "name = 3.14 #dynamically typed means yes to changing the type of a variable!\n",
    "```\n",
    "\n",
    "Will this work?\n",
    "```python\n",
    "1 = \"nope, it will not\"\n",
    "```"
   ]
  },
  {
   "cell_type": "markdown",
   "metadata": {
    "slideshow": {
     "slide_type": "slide"
    }
   },
   "source": [
    "# Recap Questions\n",
    "\n",
    "* What is a REPL?\n",
    "* What does strongly typed mean?\n",
    "* What does dynamically typed mean?\n",
    "* What is a literal?"
   ]
  },
  {
   "cell_type": "markdown",
   "metadata": {
    "slideshow": {
     "slide_type": "subslide"
    }
   },
   "source": [
    "# Variable Recap\n",
    "\n",
    "* Give me 3 types in Python\n",
    "    * What would you use each type for?\n",
    "* How do you declare multiple variables at the same time?\n",
    "* What is wrong with the code below?\n",
    "   \n",
    "   `name, age, height = 14, 'Morty'"
   ]
  },
  {
   "cell_type": "markdown",
   "metadata": {
    "slideshow": {
     "slide_type": "slide"
    }
   },
   "source": [
    "# Strings\n",
    "\n",
    "Strings in Python are unlike many languages you have seen before.\n",
    "\n",
    "They can be:\n",
    "```python\n",
    "'single_quotes'\n",
    "```"
   ]
  },
  {
   "cell_type": "markdown",
   "metadata": {
    "slideshow": {
     "slide_type": "fragment"
    }
   },
   "source": [
    "but also: \n",
    "```python\n",
    "\"double quotes\"\n",
    "```"
   ]
  },
  {
   "cell_type": "markdown",
   "metadata": {
    "slideshow": {
     "slide_type": "fragment"
    }
   },
   "source": [
    "What do single quotes usually mean in most languages?\n"
   ]
  },
  {
   "cell_type": "markdown",
   "metadata": {
    "slideshow": {
     "slide_type": "subslide"
    }
   },
   "source": [
    "What happens if you use a single quote for strings and you write the word `don't` in the string? Try it out now!\n",
    "\n",
    "How do we get around that?"
   ]
  },
  {
   "cell_type": "markdown",
   "metadata": {
    "slideshow": {
     "slide_type": "slide"
    }
   },
   "source": [
    "# Escaping Strings\n",
    "\n",
    "When you want to include special characters (like `'`) then it is always good to `escape` them!\n",
    "\n",
    "Ever seen a new line written as `\\n`? That is an example of escaping.\n",
    "\n",
    "## Escape Character\n",
    "\n",
    "    An escape character is a character which invokes an alternative interpretation on subsequent characters in a character sequence.\n",
    "    \n",
    "This is pretty much always `\\`"
   ]
  },
  {
   "cell_type": "code",
   "execution_count": null,
   "metadata": {
    "collapsed": true,
    "slideshow": {
     "slide_type": "fragment"
    }
   },
   "outputs": [],
   "source": [
    "'isn't' # not gonna work"
   ]
  },
  {
   "cell_type": "code",
   "execution_count": null,
   "metadata": {
    "collapsed": true,
    "slideshow": {
     "slide_type": "fragment"
    }
   },
   "outputs": [],
   "source": [
    "'isn\\'t' # works a charm!"
   ]
  },
  {
   "cell_type": "code",
   "execution_count": 4,
   "metadata": {
    "slideshow": {
     "slide_type": "fragment"
    }
   },
   "outputs": [
    {
     "data": {
      "text/plain": [
       "\"isn't\""
      ]
     },
     "execution_count": 4,
     "metadata": {},
     "output_type": "execute_result"
    }
   ],
   "source": [
    "\"isn't\" # also works ...."
   ]
  },
  {
   "cell_type": "markdown",
   "metadata": {
    "slideshow": {
     "slide_type": "slide"
    }
   },
   "source": [
    "# Escape Sequences\n",
    "\n",
    "| | | |\n",
    "|-|-|-|\n",
    "| \\\\\\    | Prints Backslash  | \\\\ |\n",
    "| \\\\` | Prints single-quote   | \\` |\n",
    "| \\n      | new line   | \n",
    "| \\t      | horizontal tab |"
   ]
  },
  {
   "cell_type": "markdown",
   "metadata": {
    "slideshow": {
     "slide_type": "slide"
    }
   },
   "source": [
    "# Strings II\n",
    "\n",
    "Double quotes mean you don't have to escape every special character (although you still have to escape double quotes)\n",
    "```python\n",
    "\" \\\"Sometimes, Tiffany thought, I am so fed up with being young.\\\" ~Terry Pratchett, The Shepherd's Crown  \"```\n",
    "\n",
    "Triple double quotes (??) allow you to write across multiple lines and free you from having to escape special characters. \n",
    "```python\n",
    "\"\"\" -It would seem that you have no useful skill or talent whatsoever, he said. \n",
    "\n",
    "-Have you thought of going into teaching? \"\"\"\n",
    "```\n",
    "\n",
    "Print them out.\n",
    "\n"
   ]
  },
  {
   "cell_type": "markdown",
   "metadata": {
    "slideshow": {
     "slide_type": "slide"
    }
   },
   "source": [
    "## Question\n",
    "\n",
    "What will this print?\n",
    "\n",
    "```python\n",
    "print (\"\"\" \\\\\\\\ \"\"\" )\n",
    "```"
   ]
  },
  {
   "cell_type": "markdown",
   "metadata": {
    "slideshow": {
     "slide_type": "slide"
    }
   },
   "source": [
    "Strings are sequences, and as such they share a number of operations:\n",
    "\n",
    "1. you can find the length of a string: len(\"the cat sat on a mat\")\n",
    "2. you can extract individual characters from a string: \"cucumber\"[4]\n",
    "3. slicing, which means you can extract a substring: \"marmalade\"[2:5]\n",
    "\n",
    "**We shall come back to all these operations later, in more details!!**"
   ]
  },
  {
   "cell_type": "markdown",
   "metadata": {
    "slideshow": {
     "slide_type": "subslide"
    }
   },
   "source": [
    "### Exercise\n",
    "\n",
    "1. Declare a `variable` to store a `boolean` `literal`\n",
    "\n",
    "2. Declare and instantiate a new `variable` that stores your age\n",
    "\n",
    "3. What will these print?<br>\n",
    "print(type(10))<br>\n",
    "print(type(\"test\"))\n",
    "\n",
    "4. Write the `print` function to generated the following - without using \"\"\":\n",
    "<p>Morty: \"I mean, why would a Pop-Tart want to live inside a toaster, Rick?<br>\n",
    "&nbsp;&nbsp;&nbsp;&nbsp;&nbsp;&nbsp;&nbsp;&nbsp;&nbsp;&nbsp;&nbsp;&nbsp;&nbsp;I mean, that would be like the scariest place for them to live. <br>\n",
    "&nbsp;&nbsp;&nbsp;&nbsp;&nbsp;&nbsp;&nbsp;&nbsp;&nbsp;&nbsp;&nbsp;&nbsp;&nbsp;You know what I mean?\" </p>\n",
    "\n",
    "5. Try the operations that I showed on the previous slide for strings. \n",
    "\n",
    "6. save all these in a python script w2_exercise.py and run it\n",
    "\n",
    "![insert](img/poptart.jpg)\n",
    "\n",
    "\n"
   ]
  },
  {
   "cell_type": "markdown",
   "metadata": {
    "slideshow": {
     "slide_type": "slide"
    }
   },
   "source": [
    "# Printing - String manipulation\n",
    "\n",
    "We have seen this `print` keyword thrown around alot, right? This is the best way to show some information.\n",
    "Especially useful if your script takes a long time to run!\n",
    "\n",
    "E.g. `print(\"stuff\")`\n"
   ]
  },
  {
   "cell_type": "markdown",
   "metadata": {
    "slideshow": {
     "slide_type": "slide"
    }
   },
   "source": [
    "# f-strings"
   ]
  },
  {
   "cell_type": "code",
   "execution_count": null,
   "metadata": {
    "collapsed": true,
    "slideshow": {
     "slide_type": "subslide"
    }
   },
   "outputs": [],
   "source": [
    "types_of_people = 10\n",
    "x = f\"There are {types_of_people} types of people.\"\n",
    "\n",
    "binary = \"binary\"\n",
    "do_not = \"don't\"\n",
    "y = f\"Those who know {binary} and those who {do_not}.\"\n",
    "\n",
    "print(x)\n",
    "print(y)\n",
    "\n",
    "print(f\"I said: {x}\")\n",
    "print(f\"I also said: '{y}'\")"
   ]
  },
  {
   "cell_type": "markdown",
   "metadata": {
    "slideshow": {
     "slide_type": "subslide"
    }
   },
   "source": [
    "The f at the beginning of the above string designates it as an f-string. Variable names can be placed directly inside the string itself enclosed in curly bracets rather than in a function call following the string. This makes f-strings more compact and readable.\n",
    "\n",
    "Any Python expression can be placed inside the brackets in an f-string."
   ]
  },
  {
   "cell_type": "markdown",
   "metadata": {
    "slideshow": {
     "slide_type": "slide"
    }
   },
   "source": [
    "# The string .format() method"
   ]
  },
  {
   "cell_type": "markdown",
   "metadata": {
    "slideshow": {
     "slide_type": "slide"
    }
   },
   "source": [
    "The format method (notice the word method) reminds more the approaches formating string from other languages. \n",
    "\n",
    "syntax: \n",
    "\n",
    "string.format(value1, value2...) "
   ]
  },
  {
   "cell_type": "markdown",
   "metadata": {
    "slideshow": {
     "slide_type": "slide"
    }
   },
   "source": [
    "Different ways that can be used:\n",
    "\n",
    "```python\n",
    "txt1 = \"My name is {fname}, I'am {age}\".format(fname = \"Rick Sanchez\", age = 70)\n",
    "txt2 = \"My name is {0}, I'am {1}\".format(\"Rick Sanchez\",70)\n",
    "txt3 = \"My name is {1}, I'am {0}\".format(\"Rick Sanchez\",70) \n",
    "txt4 = \"My name is {}, I'am {}\".format(\"Rick Sanchez\",70) \n",
    "```\n",
    "\n",
    "Copy each one of them at the interpreter. Can you explain the difference between txt2 and txt3?"
   ]
  },
  {
   "cell_type": "code",
   "execution_count": null,
   "metadata": {
    "collapsed": true
   },
   "outputs": [],
   "source": []
  },
  {
   "cell_type": "code",
   "execution_count": null,
   "metadata": {
    "collapsed": true,
    "slideshow": {
     "slide_type": "subslide"
    }
   },
   "outputs": [],
   "source": [
    "hilarious = False\n",
    "joke_evaluation = \"Isn't that joke so funny?! {}\"\n",
    "print(joke_evaluation.format(hilarious))\n",
    "\n",
    "print(\"Our lecturer said we can contact her at: {email} and she will answer within: {days} days\".format(email=\"zoumpoulakia@cardiff.ac.uk\",days=2))\n",
    "\n",
    "#Shaw, Zed A. Learn Python 3 the Hard Way: A Very Simple Introduction to the Terrifyingly Beautiful World of \n",
    "#Computers and Code. Addison-Wesley Professional, 2017, p.p. 26-27"
   ]
  },
  {
   "cell_type": "markdown",
   "metadata": {
    "slideshow": {
     "slide_type": "slide"
    }
   },
   "source": [
    "# Break\n",
    "\n",
    "![insert](img/code_quality_xkcd2.png)"
   ]
  },
  {
   "cell_type": "markdown",
   "metadata": {
    "slideshow": {
     "slide_type": "subslide"
    }
   },
   "source": [
    "### Exercise\n",
    "\n",
    "Create a variable of type `string` and then `reassign` it to a  float literal.\n",
    "\n",
    "Now try adding a `float` literal to your variable"
   ]
  },
  {
   "cell_type": "markdown",
   "metadata": {
    "slideshow": {
     "slide_type": "slide"
    }
   },
   "source": [
    "# Operators\n",
    "\n",
    "What is an operator? What do you remember from maths?"
   ]
  },
  {
   "cell_type": "markdown",
   "metadata": {
    "slideshow": {
     "slide_type": "fragment"
    }
   },
   "source": [
    "- `+` (add)\n",
    "- `-` (subtract)\n",
    "- `/` (divide)\n",
    "- `*` (multiply)\n",
    "\n",
    "There are more, but we will get to them!"
   ]
  },
  {
   "cell_type": "markdown",
   "metadata": {
    "slideshow": {
     "slide_type": "subslide"
    }
   },
   "source": [
    "### Exercise\n",
    "\n",
    "Use the python interpreter as a calculator:\n",
    "\n",
    "- Add 3 and 4\n",
    "- Add 3.14 + 764 (what is the difference to the above answer?)\n",
    "- Subtract 100 from 10\n",
    "- Multiply 10 by 10\n",
    "- Add 13 to 'adios'\n",
    "- Multiply 'hello' by 5\n",
    "- Divide 10 by 3\n",
    "- Divide 10 by 3 but use 2 `/` (what happens?)"
   ]
  },
  {
   "cell_type": "markdown",
   "metadata": {
    "slideshow": {
     "slide_type": "subslide"
    }
   },
   "source": [
    "In Python 3 `//` is floor division and `/` is floating point division"
   ]
  },
  {
   "cell_type": "code",
   "execution_count": null,
   "metadata": {
    "collapsed": true,
    "slideshow": {
     "slide_type": "fragment"
    }
   },
   "outputs": [],
   "source": [
    "print(9//2)\n",
    "print(9/2)\n",
    "print(9%2) #what is modulo "
   ]
  },
  {
   "cell_type": "markdown",
   "metadata": {
    "slideshow": {
     "slide_type": "slide"
    }
   },
   "source": [
    "## Order of operations\n",
    "\n",
    "# PEMDAS\n",
    "\n",
    "P   Parentheses, then\n",
    "\n",
    "E   Exponents, then\n",
    "\n",
    "MD  Multiplication and division, left to right, then\n",
    "\n",
    "AS  Addition and subtraction, left to right"
   ]
  },
  {
   "cell_type": "code",
   "execution_count": null,
   "metadata": {
    "collapsed": true
   },
   "outputs": [],
   "source": [
    "(1+2)*3"
   ]
  },
  {
   "cell_type": "markdown",
   "metadata": {
    "slideshow": {
     "slide_type": "slide"
    }
   },
   "source": [
    "## Exercise:\n",
    "    \n",
    "What will the following print?\n",
    "\n",
    "```\n",
    "(3+2)+(4/2)*2+2*3\n",
    "\n",
    "```\n",
    "\n"
   ]
  },
  {
   "cell_type": "markdown",
   "metadata": {
    "slideshow": {
     "slide_type": "slide"
    }
   },
   "source": [
    "# Adding/Dividing/Subtracting Across Types"
   ]
  },
  {
   "cell_type": "code",
   "execution_count": null,
   "metadata": {
    "collapsed": true,
    "slideshow": {
     "slide_type": "fragment"
    }
   },
   "outputs": [],
   "source": [
    "float_type = 3.0\n",
    "int_type = 5\n",
    "print(int_type + float_type)\n",
    "\n",
    "string_type = \"hello\"\n",
    "print(string_type + float_type) # what is the error?\n",
    "\n",
    "bool_type = True\n",
    "print(string_type + bool_type) \n",
    "\n",
    "print(int_type + bool_type) # does this work? Why?"
   ]
  },
  {
   "cell_type": "markdown",
   "metadata": {
    "slideshow": {
     "slide_type": "slide"
    }
   },
   "source": [
    "# Multiplying Across Types\n",
    "\n",
    "While Python is not happy to add/divide/subtract numbers from strings, it is more than happy to multiply"
   ]
  },
  {
   "cell_type": "code",
   "execution_count": null,
   "metadata": {
    "collapsed": true,
    "slideshow": {
     "slide_type": "fragment"
    }
   },
   "outputs": [],
   "source": [
    "float_type = 3.0\n",
    "int_type = 5\n",
    "print(int_type * float_type)# what is the type of the multiplication?\n",
    "\n",
    "string_type = \"hello \"\n",
    "print(string_type * int_type)\n",
    "\n",
    "bool_type = True\n",
    "print(string_type * bool_type) #why does this work?\n",
    "\n",
    "print(int_type * bool_type)"
   ]
  },
  {
   "cell_type": "markdown",
   "metadata": {},
   "source": [
    "**what will this print?**\n",
    "```python\n",
    "print('0'*'8')\n",
    "```"
   ]
  },
  {
   "cell_type": "markdown",
   "metadata": {
    "slideshow": {
     "slide_type": "slide"
    }
   },
   "source": [
    "# Operating and Assigning\n",
    "\n",
    "You may have a variable and want to change the value, this is reassigning, right?\n",
    "\n",
    "```python\n",
    "year = 1998\n",
    "year = 1999 \n",
    "```"
   ]
  },
  {
   "cell_type": "markdown",
   "metadata": {
    "slideshow": {
     "slide_type": "slide"
    }
   },
   "source": [
    "# Incrementing"
   ]
  },
  {
   "cell_type": "code",
   "execution_count": null,
   "metadata": {
    "collapsed": true,
    "slideshow": {
     "slide_type": "fragment"
    }
   },
   "outputs": [],
   "source": [
    "year = year + 1\n",
    "year += 1"
   ]
  },
  {
   "cell_type": "markdown",
   "metadata": {
    "slideshow": {
     "slide_type": "fragment"
    }
   },
   "source": [
    "### Exercise\n",
    "\n",
    "Try this (incrementing) with all the operators you know."
   ]
  },
  {
   "cell_type": "code",
   "execution_count": null,
   "metadata": {
    "collapsed": true
   },
   "outputs": [],
   "source": []
  },
  {
   "cell_type": "markdown",
   "metadata": {
    "slideshow": {
     "slide_type": "slide"
    }
   },
   "source": [
    "# Mutable vs Immutable Types"
   ]
  },
  {
   "cell_type": "markdown",
   "metadata": {
    "slideshow": {
     "slide_type": "fragment"
    }
   },
   "source": [
    "Not all objects handle change the same way! \n",
    "\n",
    "**Mutable** object can be altered after they are created \n",
    "\n",
    "**Immutable** do not change but instead return new objects when attempting updating\n",
    "\n",
    "Confusing? \n",
    "\n",
    "All types we saw today are immutable. "
   ]
  },
  {
   "cell_type": "code",
   "execution_count": null,
   "metadata": {
    "collapsed": true,
    "slideshow": {
     "slide_type": "subslide"
    }
   },
   "outputs": [],
   "source": [
    "a = 3\n",
    "print(f'3\\'s id: {id(3)}')\n",
    "print(f'a\\'s id: {id(a)}')"
   ]
  },
  {
   "cell_type": "code",
   "execution_count": null,
   "metadata": {
    "collapsed": true,
    "slideshow": {
     "slide_type": "fragment"
    }
   },
   "outputs": [],
   "source": [
    "a = a+1\n",
    "print('After operation')\n",
    "print(f'3\\'s id: {id(3)}')\n",
    "print(f'a\\'s id: {id(a)}')"
   ]
  },
  {
   "cell_type": "markdown",
   "metadata": {
    "slideshow": {
     "slide_type": "subslide"
    }
   },
   "source": [
    "### Mutable"
   ]
  },
  {
   "cell_type": "code",
   "execution_count": null,
   "metadata": {
    "collapsed": true,
    "slideshow": {
     "slide_type": "subslide"
    }
   },
   "outputs": [],
   "source": [
    "a = [3]\n",
    "print(f'a\\'s id: {id(a)}')\n",
    "a[0] = a[0]+1\n",
    "print('After operation')\n",
    "print(f'a\\'s value: {a}')\n",
    "print(f'a\\'s id: {id(a)}')"
   ]
  },
  {
   "cell_type": "code",
   "execution_count": null,
   "metadata": {
    "collapsed": true,
    "slideshow": {
     "slide_type": "subslide"
    }
   },
   "outputs": [],
   "source": [
    "a = 3\n",
    "b = a\n",
    "a +=1\n",
    "print(b)"
   ]
  },
  {
   "cell_type": "code",
   "execution_count": null,
   "metadata": {
    "collapsed": true,
    "slideshow": {
     "slide_type": "subslide"
    }
   },
   "outputs": [],
   "source": [
    "a = [3]\n",
    "b = a\n",
    "a[0] = a[0]+1\n",
    "print (b)"
   ]
  },
  {
   "cell_type": "markdown",
   "metadata": {
    "slideshow": {
     "slide_type": "slide"
    }
   },
   "source": [
    "# Mutability of Common Types"
   ]
  },
  {
   "cell_type": "markdown",
   "metadata": {
    "slideshow": {
     "slide_type": "fragment"
    }
   },
   "source": [
    "| Immutable     | Mutable      |\n",
    "| ------------- | -------------:|\n",
    "| int           | list          |\n",
    "| float         | dict          |\n",
    "| decimal       | set           |\n",
    "| complex       | bytearray     |\n",
    "| bool          | user-defined classes       |\n",
    "| string        |               |\n",
    "| tuple         |               |\n",
    "| range         |               |\n",
    "| bytes         |               |\n",
    "    \n",
    "How does this affect how you write code?"
   ]
  },
  {
   "cell_type": "markdown",
   "metadata": {
    "slideshow": {
     "slide_type": "slide"
    }
   },
   "source": [
    "# Functions"
   ]
  },
  {
   "cell_type": "markdown",
   "metadata": {
    "slideshow": {
     "slide_type": "fragment"
    }
   },
   "source": [
    "A function is a block of code that:\n",
    "- receives an input(s) (also known as arguments)\n",
    "- performs an operation (or operations)\n",
    "- optionally, returns an output\n",
    "\n",
    "Python has some built-in functions and we have used one already. What was it?"
   ]
  },
  {
   "cell_type": "markdown",
   "metadata": {
    "slideshow": {
     "slide_type": "subslide"
    }
   },
   "source": [
    "# Build in Functions - Print\n",
    "\n",
    "`print(\"Hello\")`\n",
    "<br>\n",
    "function call - invoke\n",
    "\n",
    "Format:\n",
    "- function_name\n",
    "- open brackets\n",
    "- inputs (separated, by, commas)\n",
    "- Close brackets\n",
    "\n",
    "Sometimes, inputs are optional. Not always. We will get to this."
   ]
  },
  {
   "cell_type": "markdown",
   "metadata": {
    "slideshow": {
     "slide_type": "subslide"
    }
   },
   "source": [
    "# Other Built in Functions\n",
    "\n",
    "- [`str()`](https://docs.python.org/3/library/functions.html?highlight=str#func-str)\n",
    "- [`len()`](https://docs.python.org/3/library/functions.html?highlight=len#len)\n",
    "- [`type()`](https://docs.python.org/3/library/functions.html?highlight=type#type)\n",
    "- [`int()`](https://docs.python.org/3/library/functions.html?highlight=type#int)\n",
    "- [`help()`](https://docs.python.org/3/library/functions.html?highlight=type#help)\n",
    "\n",
    "```\n",
    "help(len)\n",
    "```"
   ]
  },
  {
   "cell_type": "markdown",
   "metadata": {
    "slideshow": {
     "slide_type": "skip"
    }
   },
   "source": [
    "### Exercise\n",
    "\n",
    "Find out what the above functions do and use them in a script\n",
    "\n",
    "What happens when you don't give each an argument?\n",
    "\n",
    "Look up and write up definitions for the `id` and `isinstance` functions"
   ]
  },
  {
   "cell_type": "markdown",
   "metadata": {
    "slideshow": {
     "slide_type": "subslide"
    }
   },
   "source": [
    "str - converts an object to a string type\n",
    "len - prints the length of an object\n",
    "type - tells you the type of a literal or a variable\n",
    "int - converts a type to an integer\n",
    "\n",
    "id - a unique id that relates to where the item is stored in memory\n",
    "isinstance - checks if an object if of the supplied type"
   ]
  },
  {
   "cell_type": "markdown",
   "metadata": {
    "slideshow": {
     "slide_type": "slide"
    }
   },
   "source": [
    "# Defining Functions"
   ]
  },
  {
   "cell_type": "markdown",
   "metadata": {
    "slideshow": {
     "slide_type": "slide"
    }
   },
   "source": [
    "# Writing Your Own Function:\n",
    "\n",
    "\n",
    "```python\n",
    "def method_name(argument0, argument1):\n",
    "    variable_inside_method = \"I am indented, so I am part of the function\"\n",
    "    return variable_inside_method\n",
    "```\n",
    "\n",
    "- `def` is the keyword used to define the start of a declaration\n",
    "- the name follows it and make sure it is meaningful i.e. descriptive of the functionality\n",
    "- the **arguments** of the method go inside the brackets - also called formal parameters OR inputs to the function\n",
    "- NOTE THE COLON AT THE END OF THE LINE!!\n",
    "- **ALL** code that is part of the function needs to be indented\n",
    "- The indeted part is called the body of the function\n",
    "- The body of the function is executed until either we reach a return statement (as above) or if there are no more statements.\n",
    "- The value of the expression following the return is the value of invocing the function\n",
    "- If there is no return statement or if nothing follows the return the function returns None."
   ]
  },
  {
   "cell_type": "markdown",
   "metadata": {
    "slideshow": {
     "slide_type": "slide"
    }
   },
   "source": [
    "Defyning a function:"
   ]
  },
  {
   "cell_type": "code",
   "execution_count": null,
   "metadata": {
    "collapsed": true,
    "slideshow": {
     "slide_type": "subslide"
    }
   },
   "outputs": [],
   "source": [
    "def add_two_numbers(num1,num2):\n",
    "    num_sum = num1+num2\n",
    "    return (num_sum)"
   ]
  },
  {
   "cell_type": "markdown",
   "metadata": {
    "slideshow": {
     "slide_type": "subslide"
    }
   },
   "source": [
    "Calling (invoking) a function:"
   ]
  },
  {
   "cell_type": "code",
   "execution_count": null,
   "metadata": {
    "collapsed": true,
    "slideshow": {
     "slide_type": "subslide"
    }
   },
   "outputs": [],
   "source": [
    "add_two_numbers(3,5)"
   ]
  },
  {
   "cell_type": "markdown",
   "metadata": {
    "slideshow": {
     "slide_type": "subslide"
    }
   },
   "source": [
    "The call of a function binds the arguments to the values. \n",
    "\n",
    "For example calling add_two_numbers(3,5):\n",
    "\n",
    "binds num1 to 3 and num2 to 5. "
   ]
  },
  {
   "cell_type": "markdown",
   "metadata": {
    "slideshow": {
     "slide_type": "fragment"
    }
   },
   "source": [
    "# Exercise\n",
    "\n",
    "Call the function add_two_numbers for inputs 7 and 9 and print the result.\n",
    "\n",
    "Add some print statements in the function to show the values of num1 and num2 after invocation."
   ]
  },
  {
   "cell_type": "markdown",
   "metadata": {
    "slideshow": {
     "slide_type": "slide"
    }
   },
   "source": [
    "Not all functions need to return something. \n",
    "\n",
    "They can be used to just perform actions. \n",
    "\n",
    "If no return statement is provided python returns `None` by default"
   ]
  },
  {
   "cell_type": "code",
   "execution_count": null,
   "metadata": {
    "collapsed": true,
    "slideshow": {
     "slide_type": "fragment"
    }
   },
   "outputs": [],
   "source": [
    "def return_nothing():\n",
    "    print(\"I do printing me...\\n\")"
   ]
  },
  {
   "cell_type": "code",
   "execution_count": null,
   "metadata": {
    "collapsed": true,
    "slideshow": {
     "slide_type": "fragment"
    }
   },
   "outputs": [],
   "source": [
    "def i_am_seeing_double():\n",
    "    return_nothing()\n",
    "    return_nothing()"
   ]
  },
  {
   "cell_type": "markdown",
   "metadata": {
    "slideshow": {
     "slide_type": "slide"
    }
   },
   "source": [
    "# Exercise\n",
    "## Remember the 2 red queens card trick?\n",
    "\n",
    "Can you think some variables we are going to need for our simulation?\n",
    "\n",
    "Can you think some functions we might need ?\n"
   ]
  },
  {
   "cell_type": "markdown",
   "metadata": {
    "slideshow": {
     "slide_type": "slide"
    }
   },
   "source": [
    "![insert](img/coding_2.gif)\n",
    "\n",
    "### Homework\n",
    "\n",
    "Complete sheet `2_Homework`"
   ]
  },
  {
   "cell_type": "markdown",
   "metadata": {},
   "source": [
    "## Further Reading \n",
    "\n",
    "[type](https://docs.python.org/3/library/functions.html#type)\n",
    "\n",
    "[build-in types](https://docs.python.org/3/library/stdtypes.html)"
   ]
  }
 ],
 "metadata": {
  "celltoolbar": "Slideshow",
  "kernelspec": {
   "display_name": "Python 3",
   "language": "python",
   "name": "python3"
  },
  "language_info": {
   "codemirror_mode": {
    "name": "ipython",
    "version": 3
   },
   "file_extension": ".py",
   "mimetype": "text/x-python",
   "name": "python",
   "nbconvert_exporter": "python",
   "pygments_lexer": "ipython3",
   "version": "3.8.5"
  },
  "latex_envs": {
   "bibliofile": "biblio.bib",
   "cite_by": "apalike",
   "current_citInitial": 1,
   "eqLabelWithNumbers": true,
   "eqNumInitial": 0
  },
  "nav_menu": {},
  "toc": {
   "navigate_menu": true,
   "number_sections": true,
   "sideBar": true,
   "threshold": 6,
   "toc_cell": false,
   "toc_section_display": "block",
   "toc_window_display": false
  }
 },
 "nbformat": 4,
 "nbformat_minor": 1
}
