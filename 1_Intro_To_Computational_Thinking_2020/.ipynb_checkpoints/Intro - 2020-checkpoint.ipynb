{
 "cells": [
  {
   "cell_type": "markdown",
   "metadata": {
    "slideshow": {
     "slide_type": "slide"
    }
   },
   "source": [
    "# Computational Thinking \n",
    "## Dr. Alexia Zoumpoulaki\n",
    "### zoumpoulakia@cardiff.ac.uk"
   ]
  },
  {
   "cell_type": "markdown",
   "metadata": {
    "slideshow": {
     "slide_type": "slide"
    }
   },
   "source": [
    "# Computational Thinking?\n",
    "\n",
    "\n",
    "    Computational Thinking is the thought processes involved in formulating problems and their solutions so that the solutions are represented in a form that can be effectively carried out by an information-processing agent. \n",
    "    ~Jeannette Wing\n",
    "       \n",
    "    \n",
    "C.T. is taking an approach to solving problems, designing systems, and understanding human behavior that draws on concepts fundamental to computer science.<br>    \n",
    "\n",
    "\n",
    "- decomposition\n",
    "- (re) formulation\n",
    "- data representantion\n",
    "- abstraction\n",
    "- algorithms\n",
    "- simplicity and elegance\n",
    "- prevention, detection, and recovery from worst-case scenarios\n"
   ]
  },
  {
   "cell_type": "markdown",
   "metadata": {
    "slideshow": {
     "slide_type": "slide"
    }
   },
   "source": [
    "### Prior knowledge ? \n",
    "#### - None\n",
    "For it is impossible for anyone to begin to learn that which he thinks he already knows.\n",
    "~ Book II, ch. 17, *Epictetus*"
   ]
  },
  {
   "cell_type": "markdown",
   "metadata": {
    "slideshow": {
     "slide_type": "slide"
    }
   },
   "source": [
    "# Course Overview\n",
    "\n",
    "- Progamming in Python!\n",
    "- Maths & Binary Arithmetic\n",
    "- Algorithms and problem decomposition\n",
    "    - recursion\n",
    "    - sorting\n",
    "    - search\n",
    "    - evaluation\n",
    "    - complexity\n",
    "    "
   ]
  },
  {
   "cell_type": "markdown",
   "metadata": {
    "slideshow": {
     "slide_type": "slide"
    }
   },
   "source": [
    "## Basics of Python but the concepts exist in all(most) programming languages.  \n",
    "- Variables - data representation\n",
    "- Functions\n",
    "- Operators & Conditionals\n",
    "- Flow Control\n",
    "- Loops\n",
    "- Input/Output\n",
    "- Data Structures\n",
    "- Objects(Classes & Methods)"
   ]
  },
  {
   "cell_type": "markdown",
   "metadata": {
    "slideshow": {
     "slide_type": "slide"
    }
   },
   "source": [
    "# Course Breakdown\n",
    "\n",
    "\n",
    "\n",
    "###  Assessment : Week 3 - have 4 weeks to complete\n",
    "\n",
    "###  In Class Test : Week 5 (1h)\n",
    "\n",
    "###  In Class Test : Week 11 (1h)\n",
    "\n",
    "\n"
   ]
  },
  {
   "cell_type": "markdown",
   "metadata": {
    "slideshow": {
     "slide_type": "slide"
    }
   },
   "source": [
    "# Delivery + Material\n",
    "\n",
    "## Asynchronous\n",
    "\n",
    "### Last years Panopto videos - when relevant (edited)\n",
    "\n",
    "### Jupyter notebooks + exercises + videos \n",
    "\n",
    "# Synchronous\n",
    "\n",
    "### Online Team meetings Discussing material + solving exercises\n",
    "\n",
    "# Face 2 Face\n",
    "\n",
    "### Until further notice first 6 weeks !! \n"
   ]
  },
  {
   "cell_type": "markdown",
   "metadata": {
    "slideshow": {
     "slide_type": "slide"
    }
   },
   "source": [
    "# What Is This Not?\n",
    "\n",
    "This is not a quick course to learn Python. First and foremost, this is Computational Thinking through the medium of Python.\n",
    "\n",
    "This could easily be taught using any language. There will be much more to learn about Python after this course but you will be better equipped to learn it."
   ]
  },
  {
   "cell_type": "markdown",
   "metadata": {
    "slideshow": {
     "slide_type": "slide"
    }
   },
   "source": [
    "# Intro to Python"
   ]
  },
  {
   "cell_type": "markdown",
   "metadata": {
    "collapsed": true,
    "slideshow": {
     "slide_type": "slide"
    }
   },
   "source": [
    "# Why Python?\n",
    "\n",
    "![insert](img/prog_perm_itjobs.png)"
   ]
  },
  {
   "cell_type": "markdown",
   "metadata": {
    "slideshow": {
     "slide_type": "slide"
    }
   },
   "source": [
    "![insert](img/python_it_2020.png)"
   ]
  },
  {
   "cell_type": "markdown",
   "metadata": {
    "slideshow": {
     "slide_type": "slide"
    }
   },
   "source": [
    "# Why Python ?\n",
    "\n",
    "![insert](img/difficulty.png)"
   ]
  },
  {
   "cell_type": "markdown",
   "metadata": {
    "slideshow": {
     "slide_type": "slide"
    }
   },
   "source": [
    "# Why Python?\n",
    "\n",
    "- Open Source \n",
    "- Widely used \n",
    "- *MASSIVE* standard library\n",
    "- Cross-platform\n",
    "- Used in Academia and Industry\n",
    "- Powerful yet easy to learn"
   ]
  },
  {
   "cell_type": "markdown",
   "metadata": {
    "slideshow": {
     "slide_type": "slide"
    }
   },
   "source": [
    "# What is this Python?\n",
    "\n",
    "- Made by Guido Van Rossum in 1991\n",
    "- Continues to be overseen by him"
   ]
  },
  {
   "cell_type": "markdown",
   "metadata": {
    "slideshow": {
     "slide_type": "subslide"
    }
   },
   "source": [
    "### Benevolent Dictator for Life\n",
    "![title](img/400px-Guido_van_Rossum_OSCON_2006.jpg)"
   ]
  },
  {
   "cell_type": "markdown",
   "metadata": {
    "slideshow": {
     "slide_type": "slide"
    }
   },
   "source": [
    "# Python\n",
    "\n",
    "High level, general purpose programming language.\n",
    "\n",
    "- interpreted (?)\n",
    "- object-oriented\n",
    "- multi - paradigm : procedural, functional (no pattern matching, no tail recursion)\n",
    "- reflective "
   ]
  },
  {
   "cell_type": "markdown",
   "metadata": {
    "slideshow": {
     "slide_type": "slide"
    }
   },
   "source": [
    "# Who Uses Python?\n",
    "\n",
    "- Academia (all disciplines)\n",
    "- Google (search)\n",
    "- Disney (animation)\n",
    "- NASA (shuttle launch planning)\n",
    "- Instagram\n",
    "- Mozilla\n",
    "- Dropbox (EVERYTHING)\n",
    "- Government\n",
    "- Deepmind\n",
    "- Netflix\n",
    "\n",
    "and many more: https://wiki.python.org/moin/OrganizationsUsingPython"
   ]
  },
  {
   "cell_type": "markdown",
   "metadata": {
    "slideshow": {
     "slide_type": "slide"
    }
   },
   "source": [
    "# Python 2 vs. Python 3\n"
   ]
  },
  {
   "cell_type": "markdown",
   "metadata": {
    "slideshow": {
     "slide_type": "fragment"
    }
   },
   "source": [
    "## Python 2\n",
    "\n",
    "- Legacy\n",
    "- Largest number of libraries\n",
    "- Coming to end of life soon\n",
    "- Some groups refuse to move on ..."
   ]
  },
  {
   "cell_type": "markdown",
   "metadata": {
    "slideshow": {
     "slide_type": "fragment"
    }
   },
   "source": [
    "## Python 3\n",
    "\n",
    "- Only partially backwards compatible*\n",
    "- Almost a complete rewrite\n",
    "- Now the de facto version\n",
    "- Libraries in the process of being rewritten for support\n",
    "\n",
    "\n",
    "**Made a lot of developers very unhappy as there is a substancial amount of work especially for large, popular web, socket, or networking libraries that deal with unicode and bytes*"
   ]
  },
  {
   "cell_type": "markdown",
   "metadata": {
    "slideshow": {
     "slide_type": "slide"
    }
   },
   "source": [
    "# What is a program ?"
   ]
  },
  {
   "cell_type": "markdown",
   "metadata": {
    "slideshow": {
     "slide_type": "fragment"
    }
   },
   "source": [
    "**A program is a sequence of instructions** that specifies how to perform a computation.\n",
    "\n",
    "Instructions?\n",
    "- input\n",
    "- output\n",
    "- processing\n",
    "    - operations\n",
    "    - repetitions \n",
    "    - conditional execution"
   ]
  },
  {
   "cell_type": "markdown",
   "metadata": {
    "slideshow": {
     "slide_type": "slide"
    }
   },
   "source": [
    "# Python Interpreter\n",
    "\n",
    "- Open up a command prompt (terminal) and type `python`\n",
    "- This is it! You are in the python interpreter. \n",
    "- Try writting:\n",
    "\n",
    "```python\n",
    "print(\"Hello\")\n",
    "```\n",
    "and then press enter.\n",
    "\n",
    "What happens?"
   ]
  },
  {
   "cell_type": "markdown",
   "metadata": {
    "slideshow": {
     "slide_type": "slide"
    }
   },
   "source": [
    "![jupgif](./videos/jupyter/hello_within_python_enviroment.gif)"
   ]
  },
  {
   "cell_type": "markdown",
   "metadata": {
    "slideshow": {
     "slide_type": "slide"
    }
   },
   "source": [
    "Press play at the video below to hear the sound >>"
   ]
  },
  {
   "cell_type": "markdown",
   "metadata": {
    "slideshow": {
     "slide_type": "slide"
    }
   },
   "source": [
    "<video controls src=\"videos/jupyter/print_hello_in_cell_2020_S.mov\">animation</video>"
   ]
  },
  {
   "cell_type": "markdown",
   "metadata": {
    "slideshow": {
     "slide_type": "slide"
    }
   },
   "source": [
    "Now write your first program at the cell below.\n",
    "\n",
    "Write:\n",
    "\n",
    "```python\n",
    "print(\"My first program\")\n",
    "```"
   ]
  },
  {
   "cell_type": "code",
   "execution_count": 1,
   "metadata": {
    "slideshow": {
     "slide_type": "slide"
    }
   },
   "outputs": [
    {
     "name": "stdout",
     "output_type": "stream",
     "text": [
      "My first program\n"
     ]
    }
   ],
   "source": [
    "#write your code below this line\n",
    "print(\"My first program\")"
   ]
  },
  {
   "cell_type": "code",
   "execution_count": 4,
   "metadata": {
    "slideshow": {
     "slide_type": "fragment"
    }
   },
   "outputs": [
    {
     "name": "stdout",
     "output_type": "stream",
     "text": [
      "My name is mohammed\n"
     ]
    }
   ],
   "source": [
    "\"hello, world\"#press enter here\n",
    "\n",
    "print(\"My name is mohammed\")"
   ]
  },
  {
   "cell_type": "markdown",
   "metadata": {
    "slideshow": {
     "slide_type": "subslide"
    }
   },
   "source": [
    "Straight forward right?\n",
    "\n",
    "Check out how you can print hello world in other languages\n",
    "\n",
    "http://wiki.c2.com/?HelloWorldInManyProgrammingLanguages\n",
    "\n",
    "```cobol\n",
    " 000100 IDENTIFICATION DIVISION.\n",
    " 000200 PROGRAM-ID. HELLOWORLD.\n",
    " 000300\n",
    " 000400*\n",
    " 000500 ENVIRONMENT DIVISION.\n",
    " 000600 CONFIGURATION SECTION.\n",
    " 000700 SOURCE-COMPUTER. RM-COBOL.\n",
    " 000800 OBJECT-COMPUTER. RM-COBOL.\n",
    " 000900\n",
    " 001000 DATA DIVISION.\n",
    " 001100 FILE SECTION.\n",
    " 001200\n",
    " 100000 PROCEDURE DIVISION.\n",
    " 100100\n",
    " 100200 MAIN-LOGIC SECTION.\n",
    " 100300 BEGIN.\n",
    " 100400 DISPLAY \" \" LINE 1 POSITION 1 ERASE EOS.\n",
    " 100500 DISPLAY \"Hello world!\" LINE 15 POSITION 10.\n",
    " 100600 STOP RUN.\n",
    " 100700 MAIN-LOGIC-EXIT.\n",
    " 100800 EXIT.\n",
    " ```"
   ]
  },
  {
   "cell_type": "markdown",
   "metadata": {
    "slideshow": {
     "slide_type": "subslide"
    }
   },
   "source": [
    "Remember Malbolge?\n",
    "\n",
    "```malbolge\n",
    "(=<`#9]~6ZY32Vx/4Rs+0No-&Jk)\"Fh}|Bcy?`=*z]Kw%oG4UUS0/@-ejc(:'8dc\n",
    "```"
   ]
  },
  {
   "cell_type": "markdown",
   "metadata": {
    "slideshow": {
     "slide_type": "slide"
    }
   },
   "source": [
    "# REPL\n",
    "\n",
    "### What does this stand for?\n",
    "\n"
   ]
  },
  {
   "cell_type": "markdown",
   "metadata": {
    "slideshow": {
     "slide_type": "fragment"
    }
   },
   "source": [
    "## READ EVAL PRINT LOOP\n",
    "\n",
    "![repl](img/repl.png)"
   ]
  },
  {
   "cell_type": "markdown",
   "metadata": {
    "slideshow": {
     "slide_type": "slide"
    }
   },
   "source": [
    "## Python Syntax\n",
    "\n",
    "Syntax of a programming language --> rules that specify the correct combined sequence of symbols that can be used to form a correctly structured program.\n",
    "\n",
    "Python syntax --> how is a program written so that the python interpreter can read it and evaluate it. "
   ]
  },
  {
   "cell_type": "code",
   "execution_count": null,
   "metadata": {
    "slideshow": {
     "slide_type": "slide"
    }
   },
   "outputs": [],
   "source": [
    "# Whitespace\n",
    "\n",
    "Ever seen a different language with semicolons and curly braces?\n",
    "```java\n",
    "for (int i =0 ; i <3, i++){ \n",
    "    System.out.println(\"hello world\"); \n",
    "} /*what language is this?*/\n",
    "```\n",
    "\n",
    "```lisp\n",
    "(loop for x from 1 to 3\n",
    "      do (print x) ) ;what language is this?\n",
    "```\n",
    "\n",
    "Python does not have that. EVERYTHING revolves around whitespace. Indentation is key and enforces clean code\n",
    "\n",
    "We will cover this as we go on but be careful about spacing errors\n",
    "\n",
    "Do not worry about the code for now, but take a look at how this works:"
   ]
  },
  {
   "cell_type": "code",
   "execution_count": 5,
   "metadata": {
    "slideshow": {
     "slide_type": "subslide"
    }
   },
   "outputs": [
    {
     "name": "stdout",
     "output_type": "stream",
     "text": [
      "hello world\n",
      "hello world\n",
      "hello world\n"
     ]
    }
   ],
   "source": [
    "for i in range(0,3):\n",
    "    print(\"hello world\")"
   ]
  },
  {
   "cell_type": "code",
   "execution_count": 2,
   "metadata": {
    "slideshow": {
     "slide_type": "fragment"
    }
   },
   "outputs": [
    {
     "name": "stdout",
     "output_type": "stream",
     "text": [
      "hello world\n",
      "hello world\n",
      "hello world\n"
     ]
    }
   ],
   "source": [
    "for i in range(0,3):\n",
    "    print(\"hello world\")"
   ]
  },
  {
   "cell_type": "markdown",
   "metadata": {},
   "source": [
    "```java\n",
    "System.out.println(\"hello world\"); \n",
    "```\n",
    "\n",
    "vs\n",
    "\n",
    "```python\n",
    "print(\"hello world\")\n",
    "```\n",
    "\n",
    "A Python program is divided into a number of logical lines and every logical line is terminated by the token NEWLINE. \n",
    "\n",
    "A logical line is created from one or more physical lines."
   ]
  },
  {
   "cell_type": "markdown",
   "metadata": {
    "slideshow": {
     "slide_type": "subslide"
    }
   },
   "source": [
    "# Using the interpreter for errors\n",
    "\n",
    "The example in the previous slide told you the error and the line it occured on, like this:\n",
    "\n",
    "![errors](img/errorpy.png)\n",
    "\n",
    "Always use this **before** you ask/search for the problem. The error text is what you should search for as well. We cannot answer questions like: \"Why is my code not working?\" any more than you can."
   ]
  },
  {
   "cell_type": "markdown",
   "metadata": {
    "slideshow": {
     "slide_type": "slide"
    }
   },
   "source": [
    "# Debugging"
   ]
  },
  {
   "cell_type": "markdown",
   "metadata": {
    "slideshow": {
     "slide_type": "fragment"
    }
   },
   "source": [
    "Errors --> **Bugs**\n",
    "\n",
    "Tracking & Correcting --> **Debugging**\n",
    "\n",
    "### What type of errors?\n",
    "- syntax errors\n",
    "- runtime errors (*exceptions*)\n",
    "- semantic errors"
   ]
  },
  {
   "cell_type": "markdown",
   "metadata": {
    "slideshow": {
     "slide_type": "slide"
    }
   },
   "source": [
    "# Python REPL\n",
    "\n",
    "When you type `python` in to your command prompt, this is the Python interpreter and it is an example of a REPL. Whatever you type is evaluated immediately and run, allowing you to write a new line.\n",
    "\n",
    "What are the benefits of this? How else can this be done?"
   ]
  },
  {
   "cell_type": "markdown",
   "metadata": {
    "slideshow": {
     "slide_type": "subslide"
    }
   },
   "source": [
    "# REPL Benefits\n",
    "\n",
    "- Rapid prototyping\n",
    "- Check it works on your system\n",
    "- Command line scripting\n",
    "- Slides, talks and demos!\n",
    "\n",
    "But we don't always want to be writing one liners in the command line, do we?"
   ]
  },
  {
   "cell_type": "markdown",
   "metadata": {
    "slideshow": {
     "slide_type": "slide"
    }
   },
   "source": [
    "### Exercise: Python Scripts\n",
    "\n",
    "- Open up a text editor (atom)\n",
    "- Type `print(\"hello, world\")`\n",
    "- Save the file as `hello.py`\n",
    "- In your command prompt, run it by typing `python hello.py` in the directory it was saved in\n",
    "\n",
    "What happens?"
   ]
  },
  {
   "cell_type": "markdown",
   "metadata": {
    "slideshow": {
     "slide_type": "slide"
    }
   },
   "source": [
    "<video controls src=\"videos/jupyter/print_hello_script_s.mov\">animation</video>"
   ]
  },
  {
   "cell_type": "markdown",
   "metadata": {
    "slideshow": {
     "slide_type": "subslide"
    }
   },
   "source": [
    "# REPL vs Scripts\n",
    "\n",
    "What happens when you remove the print and the brackets?\n",
    "\n",
    "A REPL is designed to show you the state of things with each command. So, typing:\n",
    "`\"print me\"`\n",
    "will print that string.\n",
    "Scripts (or files) will not do this unless you tell it to. \n",
    "\n",
    "This is partly because printing to the command prompt (also called: `stdout`) is one of the slowest operations you can perform in Python!"
   ]
  },
  {
   "cell_type": "markdown",
   "metadata": {
    "slideshow": {
     "slide_type": "slide"
    }
   },
   "source": [
    "# Learning Python\n",
    "\n",
    "**First port of call: This course and recommended reading**\n",
    "1. Guttag, John. Introduction to Computation and Programming Using Python: with Application to Understanding Data. MIT Press, 2016.\n",
    "2. Shaw, Zed A. Learn Python the hard way: A very simple introduction to the terrifyingly beautiful world of computers and code. Addison-Wesley, 2013.\n",
    "3. http://greenteapress.com/thinkpython2/thinkpython2.pdf\n",
    "\n",
    "Second port of call: the interpreter (Learn by making mistakes. Fixing bugs and errors will increase your knowledge exponentially)\n",
    "\n",
    "Third port of call: [The Python docs](https://docs.python.org)\n",
    "\n",
    "Us. Stop us and ask and we will do our best to help!\n",
    "\n"
   ]
  },
  {
   "cell_type": "markdown",
   "metadata": {
    "slideshow": {
     "slide_type": "subslide"
    }
   },
   "source": [
    "# Asking for Help\n",
    "\n",
    "1. Do you know what the problem is?\n",
    "2. Do you know where the problem is?\n",
    "3. What have you tried?\n",
    "4. We can help you better if you have helped yourself first.\n",
    "\n",
    "Still really stuck?"
   ]
  },
  {
   "cell_type": "markdown",
   "metadata": {
    "slideshow": {
     "slide_type": "fragment"
    }
   },
   "source": [
    "[Stack Overflow](https://stackoverflow.com)\n",
    "\n",
    "Beware, some solutions are provide in Python 2. Any code written in Python `2.*` will **not** be marked or accepted."
   ]
  },
  {
   "cell_type": "markdown",
   "metadata": {
    "slideshow": {
     "slide_type": "slide"
    }
   },
   "source": [
    "# Jupyter Usage\n",
    "\n",
    "The Jupyter notebook is a way of running code in the slides, providing answers to exercises and experimenting with any code samples provided. This first lecture was provided as a PDF but there is an `ipynb` file also included on Learning Central. \n",
    "\n",
    "Every session will have at least a PDF and/or (OR) an `ipynb` file. "
   ]
  },
  {
   "cell_type": "markdown",
   "metadata": {
    "slideshow": {
     "slide_type": "slide"
    }
   },
   "source": [
    "# Running IPYNB Notebooks\n",
    "\n",
    "1. Download (save link as) the lecture/homework from learning central\n",
    "2. Save into the appropriate directory\n",
    "3. Shift + Right click on the folder and click 'Open Command Window here'\n",
    "4. Type `jupyter notebook`\n",
    "5. If a browser does not open then go to: `http://localhost:8888`\n",
    "6. Open the file or create a new one.\n",
    "7. Use markdown for text and code for Python\n",
    "8. Run code with the `Play` button (or shift+enter)"
   ]
  },
  {
   "cell_type": "markdown",
   "metadata": {
    "slideshow": {
     "slide_type": "slide"
    }
   },
   "source": [
    "<video controls src=\"videos/jupyter/jupyter_notebook_S.mov\">animation</video>"
   ]
  },
  {
   "cell_type": "markdown",
   "metadata": {
    "slideshow": {
     "slide_type": "slide"
    }
   },
   "source": [
    "# Let's Get Hands On!\n",
    "\n",
    "Below, there are a few lines of Python code. "
   ]
  },
  {
   "cell_type": "code",
   "execution_count": 5,
   "metadata": {
    "slideshow": {
     "slide_type": "fragment"
    }
   },
   "outputs": [
    {
     "name": "stdout",
     "output_type": "stream",
     "text": [
      "Python\n"
     ]
    }
   ],
   "source": [
    "language = \"Python\" #variable to store the language we are using\n",
    "print(language)"
   ]
  },
  {
   "cell_type": "markdown",
   "metadata": {
    "slideshow": {
     "slide_type": "slide"
    }
   },
   "source": [
    "Create your own cells bellow and write simple sentences. Use the print command you just learned. How is it different that using only works?"
   ]
  },
  {
   "cell_type": "code",
   "execution_count": 6,
   "metadata": {},
   "outputs": [
    {
     "name": "stdout",
     "output_type": "stream",
     "text": [
      "this is a sentence\n"
     ]
    }
   ],
   "source": [
    "print(\"this is a sentence\")"
   ]
  },
  {
   "cell_type": "markdown",
   "metadata": {
    "slideshow": {
     "slide_type": "fragment"
    }
   },
   "source": [
    "Here, you have set the variable `language` to the value `Python`. What do you note that is different here over a language like C#? Give me 2 differences.\n",
    "\n",
    "```C#\n",
    "String x = \"C#\";\n",
    "Console.WriteLine(x);\n",
    "```\n",
    "\n",
    "in C# semi colons are used after each line of code\n",
    "when variables are declared, the variable type must be specified"
   ]
  },
  {
   "cell_type": "markdown",
   "metadata": {
    "slideshow": {
     "slide_type": "slide"
    }
   },
   "source": [
    "# Exercise "
   ]
  },
  {
   "cell_type": "markdown",
   "metadata": {
    "slideshow": {
     "slide_type": "fragment"
    }
   },
   "source": [
    "What is an algorithm?\n",
    "\n",
    "An algorithm is a set of instructions used by a computer to carry out a task specified by the code writer."
   ]
  },
  {
   "cell_type": "markdown",
   "metadata": {
    "slideshow": {
     "slide_type": "fragment"
    }
   },
   "source": [
    "What is the interpreter? \n",
    "\n",
    "This is a program which reads a specific development language, each language needs its own interpreter. Once read, the interpreter will then execute the code."
   ]
  },
  {
   "cell_type": "markdown",
   "metadata": {
    "slideshow": {
     "slide_type": "fragment"
    }
   },
   "source": [
    "What is a runtime error?\n",
    "\n",
    "This is an error that occurs while the interpreter is executing each individual line of code, then runs into an error on one of the lines. This error could be anything which means the execution of the code cannot continue."
   ]
  },
  {
   "cell_type": "markdown",
   "metadata": {
    "slideshow": {
     "slide_type": "fragment"
    }
   },
   "source": [
    "What is a high-level programming language? \n",
    "\n",
    "This is a programming language used by humans to develop programs, it usually is simple for a human to understand and code in. The syntax included in a high level language is very broad allowing the programmer to easily learn to code and easily understand prewritten code."
   ]
  },
  {
   "cell_type": "markdown",
   "metadata": {
    "slideshow": {
     "slide_type": "slide"
    }
   },
   "source": [
    "![insert](img/python_xkcd1.png)"
   ]
  },
  {
   "cell_type": "markdown",
   "metadata": {
    "slideshow": {
     "slide_type": "slide"
    }
   },
   "source": [
    "### Homework\n",
    "\n",
    "Download the `1_Homework` and follow the instructions in this lecture to view it in your browser.\n",
    "\n",
    "Complete all sections **BEFORE** the next session!\n",
    "\n",
    "Instructions for submission:\n",
    "* Open the homework notebook\n",
    "* Complete the exercises\n",
    "* Save the file with your student number: `1_Homework_C111111`"
   ]
  }
 ],
 "metadata": {
  "celltoolbar": "Slideshow",
  "kernelspec": {
   "display_name": "Python 3",
   "language": "python",
   "name": "python3"
  },
  "language_info": {
   "codemirror_mode": {
    "name": "ipython",
    "version": 3
   },
   "file_extension": ".py",
   "mimetype": "text/x-python",
   "name": "python",
   "nbconvert_exporter": "python",
   "pygments_lexer": "ipython3",
   "version": "3.8.5"
  },
  "latex_envs": {
   "bibliofile": "biblio.bib",
   "cite_by": "apalike",
   "current_citInitial": 1,
   "eqLabelWithNumbers": true,
   "eqNumInitial": 0
  },
  "livereveal": {
   "transition": "zoom"
  },
  "nav_menu": {},
  "toc": {
   "navigate_menu": true,
   "number_sections": true,
   "sideBar": true,
   "threshold": 6,
   "toc_cell": false,
   "toc_section_display": "block",
   "toc_window_display": false
  }
 },
 "nbformat": 4,
 "nbformat_minor": 1
}
